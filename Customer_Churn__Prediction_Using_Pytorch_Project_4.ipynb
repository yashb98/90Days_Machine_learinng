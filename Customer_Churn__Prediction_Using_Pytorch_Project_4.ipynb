{
  "nbformat": 4,
  "nbformat_minor": 0,
  "metadata": {
    "colab": {
      "provenance": [],
      "authorship_tag": "ABX9TyPTpGlxGZljs3w0lrIp/CNT",
      "include_colab_link": true
    },
    "kernelspec": {
      "name": "python3",
      "display_name": "Python 3"
    },
    "language_info": {
      "name": "python"
    }
  },
  "cells": [
    {
      "cell_type": "markdown",
      "metadata": {
        "id": "view-in-github",
        "colab_type": "text"
      },
      "source": [
        "<a href=\"https://colab.research.google.com/github/yashb98/90Days_Machine_learinng/blob/main/Customer_Churn__Prediction_Using_Pytorch_Project_4.ipynb\" target=\"_parent\"><img src=\"https://colab.research.google.com/assets/colab-badge.svg\" alt=\"Open In Colab\"/></a>"
      ]
    },
    {
      "cell_type": "markdown",
      "source": [
        "## Import Libraries\n",
        "\n"
      ],
      "metadata": {
        "id": "mFn_mAv8R7Vf"
      }
    },
    {
      "cell_type": "code",
      "execution_count": 38,
      "metadata": {
        "id": "h_d8IQqtJ5A2"
      },
      "outputs": [],
      "source": [
        "import torch\n",
        "import torch.nn as nn\n",
        "import torch.optim as optim\n",
        "from torch.utils.data import DataLoader, TensorDataset\n",
        "from sklearn.model_selection import train_test_split\n",
        "from sklearn.preprocessing import StandardScaler\n",
        "from sklearn.metrics import (\n",
        "    accuracy_score, classification_report, confusion_matrix, roc_auc_score, roc_curve\n",
        ")\n",
        "import pandas as pd\n",
        "import numpy as np\n",
        "import matplotlib.pyplot as plt\n",
        "import seaborn as sns"
      ]
    },
    {
      "cell_type": "markdown",
      "source": [
        "\t•\ttorch handles model creation and training.\n",
        "\t•\tsklearn handles splitting, scaling, and evaluation.\n",
        "\t•\tseaborn + matplotlib for visualization — essential to interpret model performance."
      ],
      "metadata": {
        "id": "VEXy9EzaKqTm"
      }
    },
    {
      "cell_type": "markdown",
      "source": [
        "## Data Loading and Cleaning"
      ],
      "metadata": {
        "id": "_bIs3j-_R_UO"
      }
    },
    {
      "cell_type": "code",
      "source": [
        "# Load dataset\n",
        "df = pd.read_excel(\"/content/Telco_customer_churn.xlsx\")\n",
        "df.info()\n"
      ],
      "metadata": {
        "colab": {
          "base_uri": "https://localhost:8080/"
        },
        "id": "jkv3UjqkKmlk",
        "outputId": "f251cf47-6a1f-4bd7-c100-1fd52ee550b7"
      },
      "execution_count": 22,
      "outputs": [
        {
          "output_type": "stream",
          "name": "stdout",
          "text": [
            "<class 'pandas.core.frame.DataFrame'>\n",
            "RangeIndex: 7043 entries, 0 to 7042\n",
            "Data columns (total 33 columns):\n",
            " #   Column             Non-Null Count  Dtype  \n",
            "---  ------             --------------  -----  \n",
            " 0   CustomerID         7043 non-null   object \n",
            " 1   Count              7043 non-null   int64  \n",
            " 2   Country            7043 non-null   object \n",
            " 3   State              7043 non-null   object \n",
            " 4   City               7043 non-null   object \n",
            " 5   Zip Code           7043 non-null   int64  \n",
            " 6   Lat Long           7043 non-null   object \n",
            " 7   Latitude           7043 non-null   float64\n",
            " 8   Longitude          7043 non-null   float64\n",
            " 9   Gender             7043 non-null   object \n",
            " 10  Senior Citizen     7043 non-null   object \n",
            " 11  Partner            7043 non-null   object \n",
            " 12  Dependents         7043 non-null   object \n",
            " 13  Tenure Months      7043 non-null   int64  \n",
            " 14  Phone Service      7043 non-null   object \n",
            " 15  Multiple Lines     7043 non-null   object \n",
            " 16  Internet Service   7043 non-null   object \n",
            " 17  Online Security    7043 non-null   object \n",
            " 18  Online Backup      7043 non-null   object \n",
            " 19  Device Protection  7043 non-null   object \n",
            " 20  Tech Support       7043 non-null   object \n",
            " 21  Streaming TV       7043 non-null   object \n",
            " 22  Streaming Movies   7043 non-null   object \n",
            " 23  Contract           7043 non-null   object \n",
            " 24  Paperless Billing  7043 non-null   object \n",
            " 25  Payment Method     7043 non-null   object \n",
            " 26  Monthly Charges    7043 non-null   float64\n",
            " 27  Total Charges      7043 non-null   object \n",
            " 28  Churn Label        7043 non-null   object \n",
            " 29  Churn Value        7043 non-null   int64  \n",
            " 30  Churn Score        7043 non-null   int64  \n",
            " 31  CLTV               7043 non-null   int64  \n",
            " 32  Churn Reason       1869 non-null   object \n",
            "dtypes: float64(3), int64(6), object(24)\n",
            "memory usage: 1.8+ MB\n"
          ]
        }
      ]
    },
    {
      "cell_type": "code",
      "source": [
        "# Drop irrelevant columns\n",
        "df.drop([\"CustomerID\", \"Country\", \"State\", \"City\", \"Zip Code\", \"Lat Long\", \"Churn Reason\"], axis=1, inplace=True)\n",
        "\n"
      ],
      "metadata": {
        "id": "Hs89hw5aK1lK"
      },
      "execution_count": 23,
      "outputs": []
    },
    {
      "cell_type": "code",
      "source": [
        "# Convert 'Total Charges' to numeric\n",
        "df[\"Total Charges\"] = pd.to_numeric(df[\"Total Charges\"], errors=\"coerce\")\n",
        "df[\"Total Charges\"].fillna(df[\"Total Charges\"].median(), inplace=True)\n",
        "\n"
      ],
      "metadata": {
        "colab": {
          "base_uri": "https://localhost:8080/"
        },
        "id": "RKSctFoELSLa",
        "outputId": "39301e81-bd16-4c14-b47e-c5aa99915599"
      },
      "execution_count": 24,
      "outputs": [
        {
          "output_type": "stream",
          "name": "stderr",
          "text": [
            "/tmp/ipython-input-3546272182.py:3: FutureWarning: A value is trying to be set on a copy of a DataFrame or Series through chained assignment using an inplace method.\n",
            "The behavior will change in pandas 3.0. This inplace method will never work because the intermediate object on which we are setting values always behaves as a copy.\n",
            "\n",
            "For example, when doing 'df[col].method(value, inplace=True)', try using 'df.method({col: value}, inplace=True)' or df[col] = df[col].method(value) instead, to perform the operation inplace on the original object.\n",
            "\n",
            "\n",
            "  df[\"Total Charges\"].fillna(df[\"Total Charges\"].median(), inplace=True)\n"
          ]
        }
      ]
    },
    {
      "cell_type": "code",
      "source": [
        "# Target column\n",
        "target = \"Churn Value\"\n",
        "\n",
        "# Drop possible duplicate label columns\n",
        "df.drop([\"Churn Label\"], axis=1, inplace=True, errors='ignore')\n",
        "\n"
      ],
      "metadata": {
        "id": "YTVKIa4OLWcq"
      },
      "execution_count": 25,
      "outputs": []
    },
    {
      "cell_type": "code",
      "source": [
        "# Split features and labels\n",
        "X = df.drop(columns=[target])\n",
        "y = df[target]\n",
        "\n"
      ],
      "metadata": {
        "id": "mSyly13tLZL-"
      },
      "execution_count": 26,
      "outputs": []
    },
    {
      "cell_type": "code",
      "source": [
        "# Ensure all categorical columns are properly encoded\n",
        "cat_cols = X.select_dtypes(include=[\"object\"]).columns\n",
        "# One-hot encode categorical variables\n",
        "X = pd.get_dummies(X, columns=cat_cols, drop_first=True)\n",
        "\n"
      ],
      "metadata": {
        "id": "i-f-CGzyLb-z"
      },
      "execution_count": 27,
      "outputs": []
    },
    {
      "cell_type": "code",
      "source": [
        "# Check: all numeric\n",
        "assert all(X.dtypes != \"object\"), \"Some columns are still non-numeric!\""
      ],
      "metadata": {
        "id": "WkHwB4IdLdly"
      },
      "execution_count": 28,
      "outputs": []
    },
    {
      "cell_type": "code",
      "source": [
        "# Standardize numerical columns\n",
        "scaler = StandardScaler()\n",
        "X = pd.DataFrame(scaler.fit_transform(X), columns=X.columns)\n"
      ],
      "metadata": {
        "id": "VTLZWVCuLfBz"
      },
      "execution_count": 30,
      "outputs": []
    },
    {
      "cell_type": "markdown",
      "source": [
        "StandardScaler is a data preprocessing technique from sklearn.preprocessing that standardizes (or normalizes) numerical features so that they all have a mean of 0 and a standard deviation of 1.\n",
        "\n",
        "This process is often referred to as Z-score normalisation.\n",
        "\n",
        "**How it works mathematically**\n",
        "\n",
        "For each numerical feature x:\n",
        "\n",
        "\n",
        "    z = \\frac{x - \\mu}{\\sigma}\n",
        "\n",
        "Where:\n",
        "\n",
        "\t•\t\\mu = mean of the feature\n",
        "\t•\t\\sigma = standard deviation of the feature\n",
        "\t•\tz = standardized value\n",
        "\n",
        "After scaling:\n",
        "\n",
        "\t•\tMean of the column → 0\n",
        "\t•\tStandard deviation → 1\n",
        "\n",
        "This ensures all features are on the same scale, preventing large-valued features (like “Salary” or “Age”) from dominating others in machine learning algorithms.\n"
      ],
      "metadata": {
        "id": "r81H-e1Bk8y7"
      }
    },
    {
      "cell_type": "code",
      "source": [
        "# Convert to tensors\n",
        "X_train, X_test, y_train, y_test = train_test_split(X, y, test_size=0.2, random_state=42, stratify = y)\n",
        "X_train = torch.tensor(X_train.values, dtype=torch.float32)\n",
        "X_test = torch.tensor(X_test.values, dtype=torch.float32)\n",
        "y_train = torch.tensor(y_train.values, dtype=torch.float32).view(-1, 1)\n",
        "y_test = torch.tensor(y_test.values, dtype=torch.float32).view(-1, 1)"
      ],
      "metadata": {
        "id": "1qF4iEIdLgwR"
      },
      "execution_count": 40,
      "outputs": []
    },
    {
      "cell_type": "markdown",
      "source": [
        "\t1.\tSplit your data into train and test sets while preserving class distribution.\n",
        "\t2.\tConvert features and labels into PyTorch tensors.\n",
        "\t3.\tReshape labels into column vectors for PyTorch models."
      ],
      "metadata": {
        "id": "dSRn2Wb8maI-"
      }
    },
    {
      "cell_type": "markdown",
      "source": [
        "## Create a Data Loader ( Mini-Batch Training )"
      ],
      "metadata": {
        "id": "1nawfbaYSLtg"
      }
    },
    {
      "cell_type": "code",
      "source": [
        "# Create TensorDataset and DataLoader\n",
        "train_data = TensorDataset(X_train, y_train)\n",
        "test_data = TensorDataset(X_test, y_test)\n",
        "\n",
        "train_loader = DataLoader(train_data, batch_size=64, shuffle=True)\n",
        "test_loader = DataLoader(test_data, batch_size=64)"
      ],
      "metadata": {
        "id": "0N2kXqAAPxTF"
      },
      "execution_count": 41,
      "outputs": []
    },
    {
      "cell_type": "markdown",
      "source": [
        "\n",
        "\n",
        "In PyTorch, **`TensorDataset`** and **`DataLoader`** are utilities that help organize and efficiently feed data to a model during training and testing.\n",
        "\n",
        "- **`TensorDataset`**:  \n",
        "  A dataset wrapping tensors. Each sample will be retrieved by indexing tensors along the first dimension.  \n",
        "  It allows us to combine input features (`X_train`) and target labels (`y_train`) into a single dataset object that can be easily accessed in batches.\n",
        "\n",
        "  ```python\n",
        "  train_data = TensorDataset(X_train, y_train)\n",
        "  test_data = TensorDataset(X_test, y_test)"
      ],
      "metadata": {
        "id": "36ECTd2wmb24"
      }
    },
    {
      "cell_type": "markdown",
      "source": [
        "**Why use DataLoader?**\n",
        "\n",
        "Instead of feeding all data at once (which is inefficient and memory-heavy),\n",
        "DataLoader splits it into mini-batches, allowing:\n",
        "\n",
        "\t•\tFaster convergence\n",
        "\t•\tLess memory usage\n",
        "\t•\tBetter generalization"
      ],
      "metadata": {
        "id": "xY2bP7sAQA6-"
      }
    },
    {
      "cell_type": "markdown",
      "source": [
        "## Define the ANN Model"
      ],
      "metadata": {
        "id": "g_p2e1f2LkyD"
      }
    },
    {
      "cell_type": "markdown",
      "source": [
        "\n",
        "\n",
        "Since this is a binary classification (churn or not churn), we’ll use:\n",
        "\n",
        "\t•\tInput layer = number of features in your dataset\n",
        "\t•\tHidden layers = at least 2 (to capture nonlinear patterns)\n",
        "\t•\tOutput layer = 1 neuron (for probability of churn)\n",
        "\t•\tActivation = ReLU (hidden) + Sigmoid (output)\n"
      ],
      "metadata": {
        "id": "DDcqlUBvPQZ1"
      }
    },
    {
      "cell_type": "code",
      "source": [
        "import torch.nn as nn\n",
        "\n",
        "class ChurnANN(nn.Module):\n",
        "    def __init__(self, input_dim):\n",
        "        super(ChurnANN, self).__init__()\n",
        "        self.layer1 = nn.Linear(input_dim, 64)\n",
        "        self.layer2 = nn.Linear(64, 32)\n",
        "        self.output = nn.Linear(32, 1)\n",
        "        self.relu = nn.ReLU()\n",
        "        self.dropout = nn.Dropout(0.3)\n",
        "        self.sigmoid = nn.Sigmoid()\n",
        "\n",
        "    def forward(self, x):\n",
        "        x = self.relu(self.layer1(x))\n",
        "        x = self.dropout(x)\n",
        "        x = self.relu(self.layer2(x))\n",
        "        x = self.dropout(x)\n",
        "        x = self.sigmoid(self.output(x))\n",
        "        return x\n",
        "\n",
        "# Instantiate model\n",
        "input_dim = X_train.shape[1]\n",
        "model = ChurnANN(input_dim)"
      ],
      "metadata": {
        "id": "9gyiXtrvPGEN"
      },
      "execution_count": 43,
      "outputs": []
    },
    {
      "cell_type": "markdown",
      "source": [
        "### 📘 ChurnANN Model Explanation\n",
        "\n",
        "In PyTorch, we define neural networks by **subclassing `nn.Module`**. Here, `ChurnANN` is a simple feedforward **Artificial Neural Network (ANN)** for binary classification (predicting churn).\n",
        "\n",
        "#### Model Components:\n",
        "\n",
        "1. **`nn.Linear`**  \n",
        "   - Definition: Fully connected (dense) layer that performs a linear transformation:  \n",
        "     \\[\n",
        "     y = xW^T + b\n",
        "     \\]  \n",
        "   - Usage: Transforms input features into higher-level representations.  \n",
        "     - `layer1`: input_dim → 64 neurons  \n",
        "     - `layer2`: 64 → 32 neurons  \n",
        "     - `output`: 32 → 1 neuron (for binary output)\n",
        "\n",
        "2. **`nn.ReLU` (Rectified Linear Unit)**  \n",
        "   - Definition: Activation function defined as \\( \\text{ReLU}(x) = \\max(0, x) \\)  \n",
        "   - Why used:  \n",
        "     - Introduces **non-linearity** so the network can learn complex patterns.  \n",
        "     - Prevents vanishing gradient problems compared to sigmoid/tanh in hidden layers.  \n",
        "\n",
        "3. **`nn.Dropout`**  \n",
        "   - Definition: Randomly sets a fraction of input units to 0 during training.  \n",
        "   - Why used:  \n",
        "     - Helps **prevent overfitting** by making the network less sensitive to specific neurons.  \n",
        "     - In this model, `Dropout(0.3)` randomly drops 30% of neurons during each forward pass in training.\n",
        "\n",
        "4. **`nn.Sigmoid`**  \n",
        "   - Definition: Activation function defined as  \n",
        "     \\[\n",
        "     \\sigma(x) = \\frac{1}{1 + e^{-x}}\n",
        "     \\]  \n",
        "   - Output range: (0, 1)  \n",
        "   - Why used:  \n",
        "     - Converts the final output into a **probability** for binary classification (churn vs no churn).  \n",
        "     - Ensures the model output is suitable for **BCELoss** (Binary Cross-Entropy Loss).\n",
        "\n",
        "#### Forward Pass:\n",
        "\n",
        "```python\n",
        "x = self.relu(self.layer1(x))   # Hidden layer 1 + ReLU\n",
        "x = self.dropout(x)             # Apply dropout\n",
        "x = self.relu(self.layer2(x))   # Hidden layer 2 + ReLU\n",
        "x = self.dropout(x)             # Apply dropout\n",
        "x = self.sigmoid(self.output(x))# Output layer + Sigmoid"
      ],
      "metadata": {
        "id": "dtFYQbz9tU4w"
      }
    },
    {
      "cell_type": "markdown",
      "source": [
        "## Loss Function and Optimizer"
      ],
      "metadata": {
        "id": "em00JkxdNSf9"
      }
    },
    {
      "cell_type": "code",
      "source": [
        "criterion = nn.BCELoss()\n",
        "optimizer = optim.Adam(model.parameters(), lr=0.001)\n",
        "scheduler = optim.lr_scheduler.StepLR(optimizer, step_size=25, gamma=0.8)"
      ],
      "metadata": {
        "id": "cQ5yGdYzLtgY"
      },
      "execution_count": 44,
      "outputs": []
    },
    {
      "cell_type": "markdown",
      "source": [
        "1. Binary Cross-Entropy (BCELoss) measures how close predicted probabilities are to the true labels (1 = churn, 0 = stay).\n",
        "\n",
        "2. Adam automatically adjusts learning rate and converges faster than SGD.\n",
        "\n",
        "3. StepLR reduces the learning rate every 25 epochs by 20%, helping fine-tune training.\n",
        "  \n"
      ],
      "metadata": {
        "id": "O0b-SBo7NdN7"
      }
    },
    {
      "cell_type": "markdown",
      "source": [
        "## Training Loop"
      ],
      "metadata": {
        "id": "leH7Gq02NgaB"
      }
    },
    {
      "cell_type": "code",
      "source": [
        "epochs = 100\n",
        "train_losses = []\n",
        "\n",
        "for epoch in range(epochs):\n",
        "    model.train()\n",
        "    epoch_loss = 0\n",
        "\n",
        "    for X_batch, y_batch in train_loader:\n",
        "        optimizer.zero_grad()\n",
        "        y_pred = model(X_batch)\n",
        "        loss = criterion(y_pred, y_batch)\n",
        "        loss.backward()\n",
        "        optimizer.step()\n",
        "        epoch_loss += loss.item()\n",
        "\n",
        "    scheduler.step()  # update learning rate\n",
        "    avg_loss = epoch_loss / len(train_loader)\n",
        "    train_losses.append(avg_loss)\n",
        "\n",
        "    if (epoch + 1) % 10 == 0:\n",
        "        print(f\"Epoch [{epoch+1}/{epochs}] - Avg Loss: {avg_loss:.4f}\")"
      ],
      "metadata": {
        "colab": {
          "base_uri": "https://localhost:8080/"
        },
        "id": "R0pf9QTiNXI9",
        "outputId": "63d2a912-8743-480b-8816-9e1beac9a661"
      },
      "execution_count": 45,
      "outputs": [
        {
          "output_type": "stream",
          "name": "stdout",
          "text": [
            "Epoch [10/100] - Avg Loss: 0.1825\n",
            "Epoch [20/100] - Avg Loss: 0.1635\n",
            "Epoch [30/100] - Avg Loss: 0.1535\n",
            "Epoch [40/100] - Avg Loss: 0.1493\n",
            "Epoch [50/100] - Avg Loss: 0.1410\n",
            "Epoch [60/100] - Avg Loss: 0.1369\n",
            "Epoch [70/100] - Avg Loss: 0.1334\n",
            "Epoch [80/100] - Avg Loss: 0.1264\n",
            "Epoch [90/100] - Avg Loss: 0.1427\n",
            "Epoch [100/100] - Avg Loss: 0.1176\n"
          ]
        }
      ]
    },
    {
      "cell_type": "markdown",
      "source": [
        "\t•\tEach epoch updates weights once using all training data.\n",
        "\t•\tWe monitor loss every 10 epochs to ensure convergence.\n",
        "\t•\tIf the loss stops decreasing, we might lower the learning rate or use early stopping."
      ],
      "metadata": {
        "id": "BBXmGQZ9Nnhk"
      }
    },
    {
      "cell_type": "markdown",
      "source": [
        "## Visualise Training Loss"
      ],
      "metadata": {
        "id": "7k_zv0MQNquA"
      }
    },
    {
      "cell_type": "code",
      "source": [
        "plt.plot(train_losses)\n",
        "plt.title(\"Training Loss Curve\")\n",
        "plt.xlabel(\"Epoch\")\n",
        "plt.ylabel(\"Loss\")\n",
        "plt.grid(True)\n",
        "plt.show()"
      ],
      "metadata": {
        "colab": {
          "base_uri": "https://localhost:8080/",
          "height": 472
        },
        "id": "evhwDI_QNia6",
        "outputId": "96d538e9-0070-4aa6-e33c-b6e3805587e6"
      },
      "execution_count": 46,
      "outputs": [
        {
          "output_type": "display_data",
          "data": {
            "text/plain": [
              "<Figure size 640x480 with 1 Axes>"
            ],
            "image/png": "[encoded data removed]"
          },
          "metadata": {}
        }
      ]
    },
    {
      "cell_type": "markdown",
      "source": [
        "## Model Evaluation"
      ],
      "metadata": {
        "id": "sB7YdwzONylR"
      }
    },
    {
      "cell_type": "code",
      "source": [
        "model.eval()\n",
        "with torch.no_grad():\n",
        "    y_pred = []\n",
        "    for X_batch, _ in test_loader:\n",
        "        preds = model(X_batch)\n",
        "        y_pred.append(preds)\n",
        "    y_pred = torch.cat(y_pred)\n",
        "    y_pred_cls = (y_pred >= 0.5).float()\n",
        "\n",
        "# Accuracy\n",
        "acc = accuracy_score(y_test, y_pred_cls)\n",
        "print(f\"\\n✅ Test Accuracy: {acc*100:.2f}%\")\n",
        "\n",
        "# Classification Report\n",
        "print(\"\\nClassification Report:\")\n",
        "print(classification_report(y_test, y_pred_cls, digits=3))\n",
        "\n",
        "# Confusion Matrix\n",
        "cm = confusion_matrix(y_test, y_pred_cls)\n",
        "sns.heatmap(cm, annot=True, fmt='d', cmap='Blues')\n",
        "plt.title(\"Confusion Matrix\")\n",
        "plt.show()"
      ],
      "metadata": {
        "colab": {
          "base_uri": "https://localhost:8080/",
          "height": 684
        },
        "id": "Yx0QXIr0Ntmw",
        "outputId": "e6c4409b-1430-4c18-d29e-71f6d514c5cf"
      },
      "execution_count": 48,
      "outputs": [
        {
          "output_type": "stream",
          "name": "stdout",
          "text": [
            "\n",
            "✅ Test Accuracy: 91.63%\n",
            "\n",
            "Classification Report:\n",
            "              precision    recall  f1-score   support\n",
            "\n",
            "         0.0      0.942     0.944     0.943      1035\n",
            "         1.0      0.844     0.840     0.842       374\n",
            "\n",
            "    accuracy                          0.916      1409\n",
            "   macro avg      0.893     0.892     0.892      1409\n",
            "weighted avg      0.916     0.916     0.916      1409\n",
            "\n"
          ]
        },
        {
          "output_type": "display_data",
          "data": {
            "text/plain": [
              "<Figure size 640x480 with 2 Axes>"
            ],
            "image/png": "[encoded data removed]"
          },
          "metadata": {}
        }
      ]
    },
    {
      "cell_type": "code",
      "source": [
        "y_pred_probs = y_pred.numpy()\n",
        "y_true = y_test.numpy()\n",
        "\n",
        "fpr, tpr, thresholds = roc_curve(y_true, y_pred_probs)\n",
        "auc = roc_auc_score(y_true, y_pred_probs)\n",
        "\n",
        "plt.plot(fpr, tpr, label=f\"AUC = {auc:.3f}\")\n",
        "plt.plot([0, 1], [0, 1], 'k--')\n",
        "plt.xlabel(\"False Positive Rate\")\n",
        "plt.ylabel(\"True Positive Rate\")\n",
        "plt.title(\"ROC–AUC Curve\")\n",
        "plt.legend()\n",
        "plt.show()"
      ],
      "metadata": {
        "colab": {
          "base_uri": "https://localhost:8080/",
          "height": 472
        },
        "id": "bIqQsOCNN12H",
        "outputId": "6e9299f4-1faf-4a5a-b486-a067655b045d"
      },
      "execution_count": 50,
      "outputs": [
        {
          "output_type": "display_data",
          "data": {
            "text/plain": [
              "<Figure size 640x480 with 1 Axes>"
            ],
            "image/png": "[encoded data removed]"
          },
          "metadata": {}
        }
      ]
    },
    {
      "cell_type": "markdown",
      "source": [
        "\t•\tROC–AUC helps evaluate how well your model distinguishes between churners and non-churners, even in imbalanced data.\n",
        "\t•\tAUC closer to 1 → excellent model; around 0.5 → random guessing.\n"
      ],
      "metadata": {
        "id": "MtLQYzJQRFrG"
      }
    },
    {
      "cell_type": "code",
      "source": [],
      "metadata": {
        "id": "pNqRYsrARA5v"
      },
      "execution_count": null,
      "outputs": []
    },
    {
      "cell_type": "markdown",
      "metadata": {
        "id": "b819b4b9"
      },
      "source": [
        "## Analysis\n",
        "\n",
        "####The notebook performs a binary classification task to predict customer churn using an Artificial Neural Network (ANN) with PyTorch. The data is loaded, preprocessed by dropping irrelevant columns and handling missing values in 'Total Charges'. Categorical features are one-hot encoded, and numerical features are scaled using `StandardScaler`. The data is then split into training and testing sets and converted to PyTorch tensors and `DataLoader` objects for efficient training.\n",
        "\n",
        "####The ANN model consists of two hidden layers with ReLU activation and dropout for regularization, and an output layer with a Sigmoid activation for binary classification. The model is trained using the Adam optimizer and BCELoss as the criterion. A learning rate scheduler is also used to adjust the learning rate during training.\n",
        "\n",
        "####The training loss curve shows a general decreasing trend, indicating that the model is learning. The evaluation metrics on the test set show a test accuracy of 91.63%. The classification report provides precision, recall, and f1-score for both churn (1.0) and non-churn (0.0) classes. The confusion matrix visually represents the true positives, true negatives, false positives, and false negatives. The ROC-AUC curve and AUC score of 0.972 demonstrate the model's ability to distinguish between the two classes."
      ]
    },
    {
      "cell_type": "markdown",
      "metadata": {
        "id": "1df8a5f1"
      },
      "source": [
        "## Conclusion\n",
        "\n",
        "The developed ANN model demonstrates good performance in predicting customer churn with a test accuracy of over 91% and a high AUC score. The training process shows convergence, and the evaluation metrics indicate that the model is able to effectively classify customers as either churners or non-churners."
      ]
    },
    {
      "cell_type": "markdown",
      "metadata": {
        "id": "fe41ae0f"
      },
      "source": [
        "## Summary\n",
        "\n",
        "This notebook successfully implements and trains an Artificial Neural Network for customer churn prediction. The data preprocessing steps, model architecture, training procedure, and evaluation metrics are clearly defined and executed. The results suggest that the model is a promising tool for identifying customers at risk of churning. Further improvements could involve hyperparameter tuning, exploring different model architectures, or incorporating additional feature engineering."
      ]
    }
  ]
}