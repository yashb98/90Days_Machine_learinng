{
  "nbformat": 4,
  "nbformat_minor": 0,
  "metadata": {
    "colab": {
      "provenance": [],
      "gpuType": "T4",
      "authorship_tag": "ABX9TyMlf/tpdXOhsRsl7mW+6ICo",
      "include_colab_link": true
    },
    "kernelspec": {
      "name": "python3",
      "display_name": "Python 3"
    },
    "language_info": {
      "name": "python"
    },
    "accelerator": "GPU"
  },
  "cells": [
    {
      "cell_type": "markdown",
      "metadata": {
        "id": "view-in-github",
        "colab_type": "text"
      },
      "source": [
        "<a href=\"https://colab.research.google.com/github/yashb98/90Days_Machine_learinng/blob/main/California_Housing_(ML_Project_1).ipynb\" target=\"_parent\"><img src=\"https://colab.research.google.com/assets/colab-badge.svg\" alt=\"Open In Colab\"/></a>"
      ]
    },
    {
      "cell_type": "markdown",
      "source": [
        "# Project Goal : California Housing dataset\n",
        "\n",
        "The goal of this project is to predict the median house value in California districts based on various features like median income, house age, and location. This is a classic regression problem, where we predict a continuous numerical value\n"
      ],
      "metadata": {
        "id": "t4SXo2l5CuFJ"
      }
    },
    {
      "cell_type": "markdown",
      "source": [
        "## Step 1: Import Libraries"
      ],
      "metadata": {
        "id": "023SlS1AvTwI"
      }
    },
    {
      "cell_type": "code",
      "source": [
        "import numpy as np\n",
        "import pandas as pd\n",
        "from sklearn.datasets import fetch_california_housing\n",
        "from sklearn.model_selection import train_test_split, cross_val_score, GridSearchCV\n",
        "from sklearn.preprocessing import StandardScaler\n",
        "from sklearn.linear_model import LinearRegression, Ridge, Lasso, ElasticNet\n",
        "from sklearn.metrics import mean_squared_error, r2_score\n",
        "import matplotlib.pyplot as plt\n",
        "import seaborn as sns"
      ],
      "metadata": {
        "id": "DzZd5iKlub_h"
      },
      "execution_count": 3,
      "outputs": []
    },
    {
      "cell_type": "markdown",
      "source": [
        "#### This first step is the foundation of any data science project. You're importing all the necessary tools and functions into your environment.\n",
        "\n",
        "1. **numpy and pandas:** These are the workhorses for data manipulation and\n",
        "numerical operations. pandas is used to work with DataFrames (like spreadsheets in Python), and numpy is for efficient array computations.\n",
        "\n",
        "2. **sklearn:** This is Scikit-learn, the primary machine learning library in Python. You've imported specific modules for:\n",
        "\n",
        "3. **Loading the dataset** (fetch_california_housing).\n",
        "\n",
        "4. **Splitting the data** (train_test_split) and performing hyperparameter tuning (GridSearchCV).\n",
        "\n",
        "5. **Preprocessing the data** (StandardScaler).\n",
        "\n",
        "6. **Implementing the different regression models** (LinearRegression, Ridge, etc.).\n",
        "\n",
        "7. **Evaluating model performance** (mean_squared_error, r2_score).\n",
        "\n",
        "8. **matplotlib and seaborn:** These are for data visualization, which is crucial for understanding data and model results.\n",
        "\n"
      ],
      "metadata": {
        "id": "sy6KdXGPDOL1"
      }
    },
    {
      "cell_type": "markdown",
      "source": [
        "## Step 2: Load the California Housing Dataset"
      ],
      "metadata": {
        "id": "-0UGK8hpvZUj"
      }
    },
    {
      "cell_type": "code",
      "source": [
        "housing = fetch_california_housing(as_frame = True)\n",
        "df = housing.frame\n",
        "print(df.head)\n",
        "print(df.info())"
      ],
      "metadata": {
        "colab": {
          "base_uri": "https://localhost:8080/"
        },
        "id": "iY3l5I4vulMD",
        "outputId": "f46bfeb7-adad-4fe1-a51b-872f0467bc0a"
      },
      "execution_count": 4,
      "outputs": [
        {
          "output_type": "stream",
          "name": "stdout",
          "text": [
            "<bound method NDFrame.head of        MedInc  HouseAge  AveRooms  AveBedrms  Population  AveOccup  Latitude  \\\n",
            "0      8.3252      41.0  6.984127   1.023810       322.0  2.555556     37.88   \n",
            "1      8.3014      21.0  6.238137   0.971880      2401.0  2.109842     37.86   \n",
            "2      7.2574      52.0  8.288136   1.073446       496.0  2.802260     37.85   \n",
            "3      5.6431      52.0  5.817352   1.073059       558.0  2.547945     37.85   \n",
            "4      3.8462      52.0  6.281853   1.081081       565.0  2.181467     37.85   \n",
            "...       ...       ...       ...        ...         ...       ...       ...   \n",
            "20635  1.5603      25.0  5.045455   1.133333       845.0  2.560606     39.48   \n",
            "20636  2.5568      18.0  6.114035   1.315789       356.0  3.122807     39.49   \n",
            "20637  1.7000      17.0  5.205543   1.120092      1007.0  2.325635     39.43   \n",
            "20638  1.8672      18.0  5.329513   1.171920       741.0  2.123209     39.43   \n",
            "20639  2.3886      16.0  5.254717   1.162264      1387.0  2.616981     39.37   \n",
            "\n",
            "       Longitude  MedHouseVal  \n",
            "0        -122.23        4.526  \n",
            "1        -122.22        3.585  \n",
            "2        -122.24        3.521  \n",
            "3        -122.25        3.413  \n",
            "4        -122.25        3.422  \n",
            "...          ...          ...  \n",
            "20635    -121.09        0.781  \n",
            "20636    -121.21        0.771  \n",
            "20637    -121.22        0.923  \n",
            "20638    -121.32        0.847  \n",
            "20639    -121.24        0.894  \n",
            "\n",
            "[20640 rows x 9 columns]>\n",
            "<class 'pandas.core.frame.DataFrame'>\n",
            "RangeIndex: 20640 entries, 0 to 20639\n",
            "Data columns (total 9 columns):\n",
            " #   Column       Non-Null Count  Dtype  \n",
            "---  ------       --------------  -----  \n",
            " 0   MedInc       20640 non-null  float64\n",
            " 1   HouseAge     20640 non-null  float64\n",
            " 2   AveRooms     20640 non-null  float64\n",
            " 3   AveBedrms    20640 non-null  float64\n",
            " 4   Population   20640 non-null  float64\n",
            " 5   AveOccup     20640 non-null  float64\n",
            " 6   Latitude     20640 non-null  float64\n",
            " 7   Longitude    20640 non-null  float64\n",
            " 8   MedHouseVal  20640 non-null  float64\n",
            "dtypes: float64(9)\n",
            "memory usage: 1.4 MB\n",
            "None\n"
          ]
        }
      ]
    },
    {
      "cell_type": "markdown",
      "source": [
        "#### Here, you load the dataset and perform an initial inspection. This is a critical first look to understand the data's structure, types, and to check for obvious issues like missing values.\n",
        "\n",
        "1. fetch_california_housing(as_frame=True): This command loads the dataset directly from Scikit-learn and formats it as a pandas DataFrame, which is very convenient.\n",
        "\n",
        "2. df.head(): Shows the first 5 rows, giving you a feel for the feature values and the target variable (MedHouseVal).\n",
        "\n",
        "3. df.info(): Provides a concise summary. You can see there are 20,640 entries and 9 columns. Crucially, it shows \"Non-Null Count\" for all columns is 20,640, meaning there are no missing values to handle. All data types are float64, which is perfect for regression models.\n",
        "\n",
        "The target variable, MedHouseVal, is the median house value in units of 100,000 dollars. So a value of 4.526 means a median value of 452,600 dollars."
      ],
      "metadata": {
        "id": "0cVfUDfDEnVD"
      }
    },
    {
      "cell_type": "markdown",
      "source": [
        "#### This dataset contains:\n",
        "\n",
        "* Feature(X): 8 Numerical features  (MedInc,\n",
        "HouseAge, AveRooms, AveBedrms, Population, AveOccup, Latitude, Longitude)\n",
        "\n",
        "* Target(y): MedHouseVal - The median house value (in 100,000 USD)"
      ],
      "metadata": {
        "id": "c6J4ix-0vkQl"
      }
    },
    {
      "cell_type": "markdown",
      "source": [
        "## Step 3: Split Data"
      ],
      "metadata": {
        "id": "-2nQ6ryawMHD"
      }
    },
    {
      "cell_type": "code",
      "source": [
        "X = df.drop(\"MedHouseVal\", axis = 1)\n",
        "y = df[\"MedHouseVal\"]\n",
        "\n",
        "X_train, X_test, y_train, y_test = train_test_split(X, y, test_size=0.2, random_state=42)\n"
      ],
      "metadata": {
        "id": "MXOKYqVmvH07"
      },
      "execution_count": 5,
      "outputs": []
    },
    {
      "cell_type": "markdown",
      "source": [
        "#### This is one of the most important steps in creating a valid machine learning model. You are splitting your data to simulate a real-world scenario where you would train your model on historical data and then test its performance on new, unseen data.\n",
        "\n",
        "1. Features (X) and Target (y): You correctly separate the dataset into X (the features or independent variables used to make a prediction) and y (the target or dependent variable you are trying to predict).\n",
        "\n",
        "2. train_test_split:\n",
        "\n",
        "    **Why split?** You train the model on the _train data and then evaluate its performance on the _test data. This prevents overfitting, a situation where the model memorizes the training data perfectly but fails to generalize to new data.\n",
        "\n",
        "3. test_size=0.2: This reserves 20% of your data for the final test set, leaving 80% for training. This is a common and good split ratio.\n",
        "\n",
        "4. random_state=42: This ensures that the split is reproducible. Every time you run this code, you will get the exact same split, which is essential for consistent results and debugging."
      ],
      "metadata": {
        "id": "V3KndOkhE_3R"
      }
    },
    {
      "cell_type": "markdown",
      "source": [
        "## Step 4: Standardise the Features\n",
        "\n",
        "Regularization models are sensitive to feature scale - **Always Standardise** your data\n"
      ],
      "metadata": {
        "id": "sWafl0vrw8hu"
      }
    },
    {
      "cell_type": "code",
      "source": [
        "scaler = StandardScaler()\n",
        "X_train_scaled = scaler.fit_transform(X_train)\n",
        "X_test_scaled = scaler.transform(X_test)\n"
      ],
      "metadata": {
        "id": "381djOfvwi5M"
      },
      "execution_count": 6,
      "outputs": []
    },
    {
      "cell_type": "markdown",
      "source": [
        "### Why Standardise?\n",
        "Linear models, especially those with regularization (Ridge, Lasso, ElasticNet), are sensitive to the scale of the features. A feature with a large range of values (e.g., Population) might dominate the model's cost function, causing its coefficient to be disproportionately weighted compared to a feature with a small range (e.g., AveRooms). Standardization rescales each feature to have a mean of 0 and a standard deviation of 1, putting all features on a common scale.\n",
        "\n",
        "1. **fit_transform vs. transform:**\n",
        "\n",
        "    You use fit_transform(X_train) on the training data. The fit part calculates the mean and standard deviation for each feature in the training set. The transform part then applies this scaling.\n",
        "\n",
        "    You use only transform(X_test) on the test data. This is crucial! You are applying the scaling parameters learned from the training data to the test data. This prevents data leakage, where information from the test set \"leaks\" into the training process, giving an overly optimistic evaluation. You must always treat the test set as unseen data."
      ],
      "metadata": {
        "id": "oWn5_DyAFTET"
      }
    },
    {
      "cell_type": "markdown",
      "source": [
        "## Step 5: Train Models"
      ],
      "metadata": {
        "id": "pFIR1ermxakI"
      }
    },
    {
      "cell_type": "markdown",
      "source": [
        "In this step, you train four different linear models. Let's cover the theory first.\n",
        "\n",
        "**Evaluation Metrics**\n",
        "\n",
        "1. **R² Score (Coefficient of Determination):** This metric indicates the proportion of the variance in the target variable that is predictable from the features. An R² of 0.57 means your model explains 57% of the variability in house prices. A score of 1.0 is a perfect prediction, while 0.0 means the model is no better than just predicting the average house price.\n",
        "\n",
        "2. **RMSE (Root Mean Squared Error):** This is the square root of the average of the squared differences between the predicted and actual values. It's a measure of the average magnitude of the error and is in the same units as the target variable. For this dataset, an RMSE of 0.745 means your model's predictions are, on average, off by about $74,500. A lower RMSE is always better."
      ],
      "metadata": {
        "id": "dtziKfchFlhc"
      }
    },
    {
      "cell_type": "markdown",
      "source": [
        "### 1. Linear Regression"
      ],
      "metadata": {
        "id": "mUA-6B4txfmD"
      }
    },
    {
      "cell_type": "markdown",
      "source": [
        "This is the simplest regression model. It finds the optimal coefficients for each feature to fit a straight line (or hyperplane in multiple dimensions) to the data. It does this by minimizing the sum of squared errors (the difference between the predicted and actual values), a method called Ordinary Least Squares (OLS). It's great as a baseline but can be prone to overfitting if you have many features."
      ],
      "metadata": {
        "id": "yxd2JRZBFvdw"
      }
    },
    {
      "cell_type": "code",
      "source": [
        "lr = LinearRegression()\n",
        "lr.fit(X_train_scaled, y_train)\n",
        "\n",
        "y_pred_lr = lr.predict(X_test_scaled)\n",
        "\n",
        "print(\"Linear Regression: \")\n",
        "print(\"R2: \", r2_score(y_test, y_pred_lr))\n",
        "print(\"RMSE: \", np.sqrt(mean_squared_error(y_test, y_pred_lr)))"
      ],
      "metadata": {
        "colab": {
          "base_uri": "https://localhost:8080/"
        },
        "id": "s-59nWJlxZbY",
        "outputId": "159db94c-1c69-4135-e5f7-ab3cd2052525"
      },
      "execution_count": 7,
      "outputs": [
        {
          "output_type": "stream",
          "name": "stdout",
          "text": [
            "Linear Regression: \n",
            "R2:  0.575787706032451\n",
            "RMSE:  0.7455813830127763\n"
          ]
        }
      ]
    },
    {
      "cell_type": "markdown",
      "source": [
        "### 2. Ridge Regression (L2 Regularization)"
      ],
      "metadata": {
        "id": "aT4yTfLkyan2"
      }
    },
    {
      "cell_type": "markdown",
      "source": [
        "**Ridge Regression** is an extension of linear regression that adds a regularization term to the cost function. Specifically, it adds the \"L2 norm\" (sum of the squared coefficients). This penalty term forces the model to keep the coefficients small, which helps to reduce model complexity and prevent overfitting. The alpha parameter controls the strength of this penalty. Ridge shrinks coefficients towards zero but never makes them exactly zero."
      ],
      "metadata": {
        "id": "7NePgI35F0UW"
      }
    },
    {
      "cell_type": "code",
      "source": [
        "ridge = Ridge(alpha=0.1)\n",
        "ridge.fit(X_train_scaled, y_train)\n",
        "y_pred_ridge= ridge.predict(X_test_scaled)\n",
        "\n",
        "print(\"Ridge Regression: \")\n",
        "print(\"R2: \", r2_score(y_test, y_pred_ridge))\n",
        "print(\"RMSE: \", np.sqrt(mean_squared_error(y_test, y_pred_ridge)))"
      ],
      "metadata": {
        "colab": {
          "base_uri": "https://localhost:8080/"
        },
        "id": "vxol2_26yXDh",
        "outputId": "3200cb77-ffac-473c-d0dc-c1098c834d90"
      },
      "execution_count": 8,
      "outputs": [
        {
          "output_type": "stream",
          "name": "stdout",
          "text": [
            "Ridge Regression: \n",
            "R2:  0.5757905180002315\n",
            "RMSE:  0.7455789118982764\n"
          ]
        }
      ]
    },
    {
      "cell_type": "markdown",
      "source": [
        "### 3. Lasso Regularization (L1 Regularization)\n",
        "\n",
        "\n"
      ],
      "metadata": {
        "id": "3TRlfpeUzCPt"
      }
    },
    {
      "cell_type": "markdown",
      "source": [
        " **Lasso (Least Absolute Shrinkage and Selection Operator)** is similar to Ridge, but it adds the \"L1 norm\" (sum of the absolute values of the coefficients) as its penalty. The key difference is that this L1 penalty can shrink some feature coefficients all the way to zero. This makes Lasso incredibly useful for automatic feature selection, as it effectively tells you which features are not important for the prediction."
      ],
      "metadata": {
        "id": "L4xygoJ9F4kA"
      }
    },
    {
      "cell_type": "code",
      "source": [
        "lasso = Lasso(alpha=0.001)\n",
        "lasso.fit(X_train_scaled, y_train)\n",
        "y_pred_lasso = lasso.predict(X_test_scaled)\n",
        "\n",
        "print(\"Lasso Regression:\")\n",
        "print(\"R2: \", r2_score(y_test, y_pred_lasso))\n",
        "print(\"RSME: \", np.sqrt(mean_squared_error(y_test, y_pred_lasso)))"
      ],
      "metadata": {
        "colab": {
          "base_uri": "https://localhost:8080/"
        },
        "id": "dYYRyNTbzBUu",
        "outputId": "70ac43e3-48f0-4886-9539-98bb93dd2b5c"
      },
      "execution_count": 9,
      "outputs": [
        {
          "output_type": "stream",
          "name": "stdout",
          "text": [
            "Lasso Regression:\n",
            "R2:  0.5768562568705682\n",
            "RSME:  0.7446417662764214\n"
          ]
        }
      ]
    },
    {
      "cell_type": "markdown",
      "source": [
        "### 4. Elastic Net (L1 + L2 Regularization)"
      ],
      "metadata": {
        "id": "aOGd9Y6BzpfG"
      }
    },
    {
      "cell_type": "markdown",
      "source": [
        "**Elastic Net** is a hybrid of Ridge and Lasso. It includes both the L1 and L2 penalty terms in its cost function. This is useful because Lasso can sometimes be erratic if features are highly correlated, whereas Ridge handles this better. Elastic Net gives you the best of both worlds: it can perform feature selection like Lasso while handling correlated features robustly like Ridge. The l1_ratio parameter controls the mix between the two penalties."
      ],
      "metadata": {
        "id": "W5HwEcD2GEhB"
      }
    },
    {
      "cell_type": "code",
      "source": [
        "elastic = ElasticNet(alpha=0.001, l1_ratio=0.9)\n",
        "elastic.fit(X_train_scaled, y_train)\n",
        "y_pred_elastic = elastic.predict(X_test_scaled)\n",
        "\n",
        "print(\"Elastic Net Regression:\")\n",
        "print(\"R2: \", r2_score(y_test, y_pred_elastic))\n",
        "print(\"RSME: \", np.sqrt(mean_squared_error(y_test, y_pred_elastic)))"
      ],
      "metadata": {
        "colab": {
          "base_uri": "https://localhost:8080/"
        },
        "id": "1deQtJ23zmUL",
        "outputId": "d163f923-1732-4de4-918a-48b4ca0d6d9f"
      },
      "execution_count": 10,
      "outputs": [
        {
          "output_type": "stream",
          "name": "stdout",
          "text": [
            "Elastic Net Regression:\n",
            "R2:  0.5767935612793467\n",
            "RSME:  0.7446969295954571\n"
          ]
        }
      ]
    },
    {
      "cell_type": "markdown",
      "source": [
        "## Step 6: Hyperparameter Tuning (Grid Search)\n",
        "\n",
        "We will tune the regularization parameter alpha (and l1_ratio for ElasticNet)"
      ],
      "metadata": {
        "id": "svBl-4aY0OlM"
      }
    },
    {
      "cell_type": "code",
      "source": [
        "ridge_params = {'alpha': [0.001, 0.01, 0.1, 1, 10, 100]}\n",
        "lasso_params = {'alpha': [0.001, 0.01, 0.1, 1, 10, 100 ]}\n",
        "elastic_params = {'alpha': [0.001, 0.01, 0.1, 1, 10, 100], 'l1_ratio': [0.1, 0.3, 0.5, 0.7, 0.9]}\n",
        "\n",
        "ridge_grid = GridSearchCV(Ridge(), ridge_params, cv=5, scoring='neg_mean_squared_error')\n",
        "lasso_grid = GridSearchCV(Lasso(max_iter=10000), lasso_params, cv=5, scoring='neg_mean_squared_error')\n",
        "elastic_grid = GridSearchCV(ElasticNet(max_iter=10000), elastic_params, cv=5, scoring='neg_mean_squared_error')\n",
        "\n",
        "ridge_grid.fit(X_train_scaled, y_train)\n",
        "lasso_grid.fit(X_train_scaled, y_train)\n",
        "elastic_grid.fit(X_train_scaled, y_train)\n",
        "\n",
        "print(\"Best Ridge alpha: \", ridge_grid.best_params_)\n",
        "print(\"Best Lasso alpha: \", lasso_grid.best_params_)\n",
        "print(\"Best ElasticNet parameters: \", elastic_grid.best_params_)\n"
      ],
      "metadata": {
        "colab": {
          "base_uri": "https://localhost:8080/"
        },
        "id": "0jpRpn-70NCz",
        "outputId": "f260da9f-b862-49f4-bfc4-8347179dfab7"
      },
      "execution_count": 11,
      "outputs": [
        {
          "output_type": "stream",
          "name": "stdout",
          "text": [
            "Best Ridge alpha:  {'alpha': 0.1}\n",
            "Best Lasso alpha:  {'alpha': 0.001}\n",
            "Best ElasticNet parameters:  {'alpha': 0.001, 'l1_ratio': 0.9}\n"
          ]
        }
      ]
    },
    {
      "cell_type": "markdown",
      "source": [
        "#### This is a systematic way to find the best settings for your models.\n",
        "\n",
        "**Hyperparameter Tuning with GridSearchCV**\n",
        "\n",
        "1. **Hyperparameters:** These are settings you choose before training a model, like alpha in Ridge/Lasso or l1_ratio in ElasticNet. They are not learned from the data like the model's coefficients.\n",
        "\n",
        "2. **Grid Search:** You define a \"grid\" of possible hyperparameter values (e.g., alpha: [0.001, 0.01, 1, 100]). GridSearchCV then exhaustively tries every combination.\n",
        "\n",
        "3. **Cross-Validation (cv=5):** For each combination, it performs 5-fold cross-validation. The training data is split into 5 \"folds.\" The model is trained on 4 folds and validated on the 5th, and this process is repeated 5 times, with each fold being the validation set once. The performance metric is then averaged across the 5 folds. This gives a much more robust performance estimate than a single train/validation split.\n",
        "\n",
        "4. **scoring='neg_mean_squared_error':** GridSearchCV aims to maximize a score. Since we want to minimize error (like MSE), Scikit-learn uses \"negative mean squared error,\" where a larger number (i.e., closer to zero) is better."
      ],
      "metadata": {
        "id": "5-3rPYr4GZKv"
      }
    },
    {
      "cell_type": "markdown",
      "source": [
        "## Step 7: Compare Model Performance\n",
        "\n",
        "Let's collect the results:\n"
      ],
      "metadata": {
        "id": "U5PUdnGj2Rgg"
      }
    },
    {
      "cell_type": "code",
      "source": [
        "models = ['Linear', 'Ridge', 'Lasso', 'ElasticNet']\n",
        "r2_scores = [\n",
        "    r2_score(y_test, y_pred_lr),\n",
        "    r2_score(y_test, y_pred_ridge),\n",
        "    r2_score(y_test, y_pred_lasso),\n",
        "    r2_score(y_test, y_pred_elastic)\n",
        "]\n",
        "\n",
        "rmse_score = [\n",
        "    np.sqrt(mean_squared_error(y_test, y_pred_lr)),\n",
        "    np.sqrt(mean_squared_error(y_test, y_pred_ridge)),\n",
        "    np.sqrt(mean_squared_error(y_test, y_pred_lasso)),\n",
        "    np.sqrt(mean_squared_error(y_test, y_pred_elastic))\n",
        "]\n",
        "\n",
        "results = pd.DataFrame({\n",
        "    'Model': models,\n",
        "    'R2 Score': r2_scores,\n",
        "    'RMSE': rmse_score\n",
        "})\n",
        "\n",
        "print(results)"
      ],
      "metadata": {
        "colab": {
          "base_uri": "https://localhost:8080/"
        },
        "id": "rjnXb-nw2IyV",
        "outputId": "53130a70-792b-43f4-d90f-5242b32e6d2f"
      },
      "execution_count": 12,
      "outputs": [
        {
          "output_type": "stream",
          "name": "stdout",
          "text": [
            "        Model  R2 Score      RMSE\n",
            "0      Linear  0.575788  0.745581\n",
            "1       Ridge  0.575791  0.745579\n",
            "2       Lasso  0.576856  0.744642\n",
            "3  ElasticNet  0.576794  0.744697\n"
          ]
        }
      ]
    },
    {
      "cell_type": "markdown",
      "metadata": {
        "id": "81d78787"
      },
      "source": [
        "## Step 8: Feature Engineering\n",
        "\n",
        "Let's create some new features that might be helpful for the models:\n",
        "- `MedInc_HouseAge`: Interaction between median income and house age.\n",
        "- `AveRooms_AveOccup`: Ratio of average rooms to average occupancy.\n",
        "- `Distance_from_center`: A measure of distance from a central point (can be calculated based on latitude and longitude)."
      ]
    },
    {
      "cell_type": "code",
      "metadata": {
        "colab": {
          "base_uri": "https://localhost:8080/",
          "height": 395
        },
        "id": "22658222",
        "outputId": "98237629-9f6c-4c98-8998-875c3c82103f"
      },
      "source": [
        "# Calculate the center of the data based on latitude and longitude\n",
        "center_lat = df['Latitude'].mean()\n",
        "center_lon = df['Longitude'].mean()\n",
        "\n",
        "# Function to calculate distance from the center\n",
        "def distance_from_center(row):\n",
        "    return np.sqrt((row['Latitude'] - center_lat)**2 + (row['Longitude'] - center_lon)**2)\n",
        "\n",
        "# Apply feature engineering to both training and test sets\n",
        "X_train_engineered = X_train.copy()\n",
        "X_test_engineered = X_test.copy()\n",
        "\n",
        "X_train_engineered['MedInc_HouseAge'] = X_train_engineered['MedInc'] * X_train_engineered['HouseAge']\n",
        "X_test_engineered['MedInc_HouseAge'] = X_test_engineered['MedInc'] * X_test_engineered['HouseAge']\n",
        "\n",
        "X_train_engineered['AveRooms_AveOccup'] = X_train_engineered['AveRooms'] / X_train_engineered['AveOccup']\n",
        "X_test_engineered['AveRooms_AveOccup'] = X_test_engineered['AveRooms'] / X_test_engineered['AveOccup']\n",
        "\n",
        "X_train_engineered['Distance_from_center'] = X_train_engineered.apply(distance_from_center, axis=1)\n",
        "X_test_engineered['Distance_from_center'] = X_test_engineered.apply(distance_from_center, axis=1)\n",
        "\n",
        "display(X_train_engineered.head())\n",
        "display(X_test_engineered.head())"
      ],
      "execution_count": 19,
      "outputs": [
        {
          "output_type": "display_data",
          "data": {
            "text/plain": [
              "       MedInc  HouseAge  AveRooms  AveBedrms  Population  AveOccup  Latitude  \\\n",
              "14196  3.2596      33.0  5.017657   1.006421      2300.0  3.691814     32.71   \n",
              "8267   3.8125      49.0  4.473545   1.041005      1314.0  1.738095     33.77   \n",
              "17445  4.1563       4.0  5.645833   0.985119       915.0  2.723214     34.66   \n",
              "14265  1.9425      36.0  4.002817   1.033803      1418.0  3.994366     32.69   \n",
              "2271   3.5542      43.0  6.268421   1.134211       874.0  2.300000     36.78   \n",
              "\n",
              "       Longitude  MedInc_HouseAge  AveRooms_AveOccup  Distance_from_center  \n",
              "14196    -117.03         107.5668           1.359130              3.871353  \n",
              "8267     -118.16         186.8125           2.573820              2.335336  \n",
              "17445    -120.48          16.6252           2.073224              1.331598  \n",
              "14265    -117.11          69.9300           1.002116              3.834670  \n",
              "2271     -119.80         152.8306           2.725400              1.171007  "
            ],
            "text/html": [
              "\n",
              "  <div id=\"df-d2388d1a-87c2-48c9-aba3-308df79df178\" class=\"colab-df-container\">\n",
              "    <div>\n",
              "<style scoped>\n",
              "    .dataframe tbody tr th:only-of-type {\n",
              "        vertical-align: middle;\n",
              "    }\n",
              "\n",
              "    .dataframe tbody tr th {\n",
              "        vertical-align: top;\n",
              "    }\n",
              "\n",
              "    .dataframe thead th {\n",
              "        text-align: right;\n",
              "    }\n",
              "</style>\n",
              "<table border=\"1\" class=\"dataframe\">\n",
              "  <thead>\n",
              "    <tr style=\"text-align: right;\">\n",
              "      <th></th>\n",
              "      <th>MedInc</th>\n",
              "      <th>HouseAge</th>\n",
              "      <th>AveRooms</th>\n",
              "      <th>AveBedrms</th>\n",
              "      <th>Population</th>\n",
              "      <th>AveOccup</th>\n",
              "      <th>Latitude</th>\n",
              "      <th>Longitude</th>\n",
              "      <th>MedInc_HouseAge</th>\n",
              "      <th>AveRooms_AveOccup</th>\n",
              "      <th>Distance_from_center</th>\n",
              "    </tr>\n",
              "  </thead>\n",
              "  <tbody>\n",
              "    <tr>\n",
              "      <th>14196</th>\n",
              "      <td>3.2596</td>\n",
              "      <td>33.0</td>\n",
              "      <td>5.017657</td>\n",
              "      <td>1.006421</td>\n",
              "      <td>2300.0</td>\n",
              "      <td>3.691814</td>\n",
              "      <td>32.71</td>\n",
              "      <td>-117.03</td>\n",
              "      <td>107.5668</td>\n",
              "      <td>1.359130</td>\n",
              "      <td>3.871353</td>\n",
              "    </tr>\n",
              "    <tr>\n",
              "      <th>8267</th>\n",
              "      <td>3.8125</td>\n",
              "      <td>49.0</td>\n",
              "      <td>4.473545</td>\n",
              "      <td>1.041005</td>\n",
              "      <td>1314.0</td>\n",
              "      <td>1.738095</td>\n",
              "      <td>33.77</td>\n",
              "      <td>-118.16</td>\n",
              "      <td>186.8125</td>\n",
              "      <td>2.573820</td>\n",
              "      <td>2.335336</td>\n",
              "    </tr>\n",
              "    <tr>\n",
              "      <th>17445</th>\n",
              "      <td>4.1563</td>\n",
              "      <td>4.0</td>\n",
              "      <td>5.645833</td>\n",
              "      <td>0.985119</td>\n",
              "      <td>915.0</td>\n",
              "      <td>2.723214</td>\n",
              "      <td>34.66</td>\n",
              "      <td>-120.48</td>\n",
              "      <td>16.6252</td>\n",
              "      <td>2.073224</td>\n",
              "      <td>1.331598</td>\n",
              "    </tr>\n",
              "    <tr>\n",
              "      <th>14265</th>\n",
              "      <td>1.9425</td>\n",
              "      <td>36.0</td>\n",
              "      <td>4.002817</td>\n",
              "      <td>1.033803</td>\n",
              "      <td>1418.0</td>\n",
              "      <td>3.994366</td>\n",
              "      <td>32.69</td>\n",
              "      <td>-117.11</td>\n",
              "      <td>69.9300</td>\n",
              "      <td>1.002116</td>\n",
              "      <td>3.834670</td>\n",
              "    </tr>\n",
              "    <tr>\n",
              "      <th>2271</th>\n",
              "      <td>3.5542</td>\n",
              "      <td>43.0</td>\n",
              "      <td>6.268421</td>\n",
              "      <td>1.134211</td>\n",
              "      <td>874.0</td>\n",
              "      <td>2.300000</td>\n",
              "      <td>36.78</td>\n",
              "      <td>-119.80</td>\n",
              "      <td>152.8306</td>\n",
              "      <td>2.725400</td>\n",
              "      <td>1.171007</td>\n",
              "    </tr>\n",
              "  </tbody>\n",
              "</table>\n",
              "</div>\n",
              "    <div class=\"colab-df-buttons\">\n",
              "\n",
              "  <div class=\"colab-df-container\">\n",
              "    <button class=\"colab-df-convert\" onclick=\"convertToInteractive('df-d2388d1a-87c2-48c9-aba3-308df79df178')\"\n",
              "            title=\"Convert this dataframe to an interactive table.\"\n",
              "            style=\"display:none;\">\n",
              "\n",
              "  <svg xmlns=\"http://www.w3.org/2000/svg\" height=\"24px\" viewBox=\"0 -960 960 960\">\n",
              "    <path d=\"M120-120v-720h720v720H120Zm60-500h600v-160H180v160Zm220 220h160v-160H400v160Zm0 220h160v-160H400v160ZM180-400h160v-160H180v160Zm440 0h160v-160H620v160ZM180-180h160v-160H180v160Zm440 0h160v-160H620v160Z\"/>\n",
              "  </svg>\n",
              "    </button>\n",
              "\n",
              "  <style>\n",
              "    .colab-df-container {\n",
              "      display:flex;\n",
              "      gap: 12px;\n",
              "    }\n",
              "\n",
              "    .colab-df-convert {\n",
              "      background-color: #E8F0FE;\n",
              "      border: none;\n",
              "      border-radius: 50%;\n",
              "      cursor: pointer;\n",
              "      display: none;\n",
              "      fill: #1967D2;\n",
              "      height: 32px;\n",
              "      padding: 0 0 0 0;\n",
              "      width: 32px;\n",
              "    }\n",
              "\n",
              "    .colab-df-convert:hover {\n",
              "      background-color: #E2EBFA;\n",
              "      box-shadow: 0px 1px 2px rgba(60, 64, 67, 0.3), 0px 1px 3px 1px rgba(60, 64, 67, 0.15);\n",
              "      fill: #174EA6;\n",
              "    }\n",
              "\n",
              "    .colab-df-buttons div {\n",
              "      margin-bottom: 4px;\n",
              "    }\n",
              "\n",
              "    [theme=dark] .colab-df-convert {\n",
              "      background-color: #3B4455;\n",
              "      fill: #D2E3FC;\n",
              "    }\n",
              "\n",
              "    [theme=dark] .colab-df-convert:hover {\n",
              "      background-color: #434B5C;\n",
              "      box-shadow: 0px 1px 3px 1px rgba(0, 0, 0, 0.15);\n",
              "      filter: drop-shadow(0px 1px 2px rgba(0, 0, 0, 0.3));\n",
              "      fill: #FFFFFF;\n",
              "    }\n",
              "  </style>\n",
              "\n",
              "    <script>\n",
              "      const buttonEl =\n",
              "        document.querySelector('#df-d2388d1a-87c2-48c9-aba3-308df79df178 button.colab-df-convert');\n",
              "      buttonEl.style.display =\n",
              "        google.colab.kernel.accessAllowed ? 'block' : 'none';\n",
              "\n",
              "      async function convertToInteractive(key) {\n",
              "        const element = document.querySelector('#df-d2388d1a-87c2-48c9-aba3-308df79df178');\n",
              "        const dataTable =\n",
              "          await google.colab.kernel.invokeFunction('convertToInteractive',\n",
              "                                                    [key], {});\n",
              "        if (!dataTable) return;\n",
              "\n",
              "        const docLinkHtml = 'Like what you see? Visit the ' +\n",
              "          '<a target=\"_blank\" href=https://colab.research.google.com/notebooks/data_table.ipynb>data table notebook</a>'\n",
              "          + ' to learn more about interactive tables.';\n",
              "        element.innerHTML = '';\n",
              "        dataTable['output_type'] = 'display_data';\n",
              "        await google.colab.output.renderOutput(dataTable, element);\n",
              "        const docLink = document.createElement('div');\n",
              "        docLink.innerHTML = docLinkHtml;\n",
              "        element.appendChild(docLink);\n",
              "      }\n",
              "    </script>\n",
              "  </div>\n",
              "\n",
              "\n",
              "    <div id=\"df-7fcdccc4-5fe7-40cf-8b13-8fe6f2391ac3\">\n",
              "      <button class=\"colab-df-quickchart\" onclick=\"quickchart('df-7fcdccc4-5fe7-40cf-8b13-8fe6f2391ac3')\"\n",
              "                title=\"Suggest charts\"\n",
              "                style=\"display:none;\">\n",
              "\n",
              "<svg xmlns=\"http://www.w3.org/2000/svg\" height=\"24px\"viewBox=\"0 0 24 24\"\n",
              "     width=\"24px\">\n",
              "    <g>\n",
              "        <path d=\"M19 3H5c-1.1 0-2 .9-2 2v14c0 1.1.9 2 2 2h14c1.1 0 2-.9 2-2V5c0-1.1-.9-2-2-2zM9 17H7v-7h2v7zm4 0h-2V7h2v10zm4 0h-2v-4h2v4z\"/>\n",
              "    </g>\n",
              "</svg>\n",
              "      </button>\n",
              "\n",
              "<style>\n",
              "  .colab-df-quickchart {\n",
              "      --bg-color: #E8F0FE;\n",
              "      --fill-color: #1967D2;\n",
              "      --hover-bg-color: #E2EBFA;\n",
              "      --hover-fill-color: #174EA6;\n",
              "      --disabled-fill-color: #AAA;\n",
              "      --disabled-bg-color: #DDD;\n",
              "  }\n",
              "\n",
              "  [theme=dark] .colab-df-quickchart {\n",
              "      --bg-color: #3B4455;\n",
              "      --fill-color: #D2E3FC;\n",
              "      --hover-bg-color: #434B5C;\n",
              "      --hover-fill-color: #FFFFFF;\n",
              "      --disabled-bg-color: #3B4455;\n",
              "      --disabled-fill-color: #666;\n",
              "  }\n",
              "\n",
              "  .colab-df-quickchart {\n",
              "    background-color: var(--bg-color);\n",
              "    border: none;\n",
              "    border-radius: 50%;\n",
              "    cursor: pointer;\n",
              "    display: none;\n",
              "    fill: var(--fill-color);\n",
              "    height: 32px;\n",
              "    padding: 0;\n",
              "    width: 32px;\n",
              "  }\n",
              "\n",
              "  .colab-df-quickchart:hover {\n",
              "    background-color: var(--hover-bg-color);\n",
              "    box-shadow: 0 1px 2px rgba(60, 64, 67, 0.3), 0 1px 3px 1px rgba(60, 64, 67, 0.15);\n",
              "    fill: var(--button-hover-fill-color);\n",
              "  }\n",
              "\n",
              "  .colab-df-quickchart-complete:disabled,\n",
              "  .colab-df-quickchart-complete:disabled:hover {\n",
              "    background-color: var(--disabled-bg-color);\n",
              "    fill: var(--disabled-fill-color);\n",
              "    box-shadow: none;\n",
              "  }\n",
              "\n",
              "  .colab-df-spinner {\n",
              "    border: 2px solid var(--fill-color);\n",
              "    border-color: transparent;\n",
              "    border-bottom-color: var(--fill-color);\n",
              "    animation:\n",
              "      spin 1s steps(1) infinite;\n",
              "  }\n",
              "\n",
              "  @keyframes spin {\n",
              "    0% {\n",
              "      border-color: transparent;\n",
              "      border-bottom-color: var(--fill-color);\n",
              "      border-left-color: var(--fill-color);\n",
              "    }\n",
              "    20% {\n",
              "      border-color: transparent;\n",
              "      border-left-color: var(--fill-color);\n",
              "      border-top-color: var(--fill-color);\n",
              "    }\n",
              "    30% {\n",
              "      border-color: transparent;\n",
              "      border-left-color: var(--fill-color);\n",
              "      border-top-color: var(--fill-color);\n",
              "      border-right-color: var(--fill-color);\n",
              "    }\n",
              "    40% {\n",
              "      border-color: transparent;\n",
              "      border-right-color: var(--fill-color);\n",
              "      border-top-color: var(--fill-color);\n",
              "    }\n",
              "    60% {\n",
              "      border-color: transparent;\n",
              "      border-right-color: var(--fill-color);\n",
              "    }\n",
              "    80% {\n",
              "      border-color: transparent;\n",
              "      border-right-color: var(--fill-color);\n",
              "      border-bottom-color: var(--fill-color);\n",
              "    }\n",
              "    90% {\n",
              "      border-color: transparent;\n",
              "      border-bottom-color: var(--fill-color);\n",
              "    }\n",
              "  }\n",
              "</style>\n",
              "\n",
              "      <script>\n",
              "        async function quickchart(key) {\n",
              "          const quickchartButtonEl =\n",
              "            document.querySelector('#' + key + ' button');\n",
              "          quickchartButtonEl.disabled = true;  // To prevent multiple clicks.\n",
              "          quickchartButtonEl.classList.add('colab-df-spinner');\n",
              "          try {\n",
              "            const charts = await google.colab.kernel.invokeFunction(\n",
              "                'suggestCharts', [key], {});\n",
              "          } catch (error) {\n",
              "            console.error('Error during call to suggestCharts:', error);\n",
              "          }\n",
              "          quickchartButtonEl.classList.remove('colab-df-spinner');\n",
              "          quickchartButtonEl.classList.add('colab-df-quickchart-complete');\n",
              "        }\n",
              "        (() => {\n",
              "          let quickchartButtonEl =\n",
              "            document.querySelector('#df-7fcdccc4-5fe7-40cf-8b13-8fe6f2391ac3 button');\n",
              "          quickchartButtonEl.style.display =\n",
              "            google.colab.kernel.accessAllowed ? 'block' : 'none';\n",
              "        })();\n",
              "      </script>\n",
              "    </div>\n",
              "\n",
              "    </div>\n",
              "  </div>\n"
            ],
            "application/vnd.google.colaboratory.intrinsic+json": {
              "type": "dataframe",
              "summary": "{\n  \"name\": \"display(X_test_engineered\",\n  \"rows\": 5,\n  \"fields\": [\n    {\n      \"column\": \"MedInc\",\n      \"properties\": {\n        \"dtype\": \"number\",\n        \"std\": 0.8507097019547855,\n        \"min\": 1.9425,\n        \"max\": 4.1563,\n        \"num_unique_values\": 5,\n        \"samples\": [\n          3.8125,\n          3.5542,\n          4.1563\n        ],\n        \"semantic_type\": \"\",\n        \"description\": \"\"\n      }\n    },\n    {\n      \"column\": \"HouseAge\",\n      \"properties\": {\n        \"dtype\": \"number\",\n        \"std\": 17.363755354185336,\n        \"min\": 4.0,\n        \"max\": 49.0,\n        \"num_unique_values\": 5,\n        \"samples\": [\n          49.0,\n          43.0,\n          4.0\n        ],\n        \"semantic_type\": \"\",\n        \"description\": \"\"\n      }\n    },\n    {\n      \"column\": \"AveRooms\",\n      \"properties\": {\n        \"dtype\": \"number\",\n        \"std\": 0.9033958311044777,\n        \"min\": 4.002816901408451,\n        \"max\": 6.268421052631579,\n        \"num_unique_values\": 5,\n        \"samples\": [\n          4.473544973544974,\n          6.268421052631579,\n          5.645833333333333\n        ],\n        \"semantic_type\": \"\",\n        \"description\": \"\"\n      }\n    },\n    {\n      \"column\": \"AveBedrms\",\n      \"properties\": {\n        \"dtype\": \"number\",\n        \"std\": 0.057128091416709416,\n        \"min\": 0.9851190476190477,\n        \"max\": 1.1342105263157896,\n        \"num_unique_values\": 5,\n        \"samples\": [\n          1.041005291005291,\n          1.1342105263157896,\n          0.9851190476190477\n        ],\n        \"semantic_type\": \"\",\n        \"description\": \"\"\n      }\n    },\n    {\n      \"column\": \"Population\",\n      \"properties\": {\n        \"dtype\": \"number\",\n        \"std\": 575.1549356477783,\n        \"min\": 874.0,\n        \"max\": 2300.0,\n        \"num_unique_values\": 5,\n        \"samples\": [\n          1314.0,\n          874.0,\n          915.0\n        ],\n        \"semantic_type\": \"\",\n        \"description\": \"\"\n      }\n    },\n    {\n      \"column\": \"AveOccup\",\n      \"properties\": {\n        \"dtype\": \"number\",\n        \"std\": 0.9441041876476729,\n        \"min\": 1.7380952380952381,\n        \"max\": 3.9943661971830986,\n        \"num_unique_values\": 5,\n        \"samples\": [\n          1.7380952380952381,\n          2.3,\n          2.7232142857142856\n        ],\n        \"semantic_type\": \"\",\n        \"description\": \"\"\n      }\n    },\n    {\n      \"column\": \"Latitude\",\n      \"properties\": {\n        \"dtype\": \"number\",\n        \"std\": 1.6972536640113642,\n        \"min\": 32.69,\n        \"max\": 36.78,\n        \"num_unique_values\": 5,\n        \"samples\": [\n          33.77,\n          36.78,\n          34.66\n        ],\n        \"semantic_type\": \"\",\n        \"description\": \"\"\n      }\n    },\n    {\n      \"column\": \"Longitude\",\n      \"properties\": {\n        \"dtype\": \"number\",\n        \"std\": 1.5666620567308072,\n        \"min\": -120.48,\n        \"max\": -117.03,\n        \"num_unique_values\": 5,\n        \"samples\": [\n          -118.16,\n          -119.8,\n          -120.48\n        ],\n        \"semantic_type\": \"\",\n        \"description\": \"\"\n      }\n    },\n    {\n      \"column\": \"MedInc_HouseAge\",\n      \"properties\": {\n        \"dtype\": \"number\",\n        \"std\": 67.10492659687515,\n        \"min\": 16.6252,\n        \"max\": 186.8125,\n        \"num_unique_values\": 5,\n        \"samples\": [\n          186.8125,\n          152.8306,\n          16.6252\n        ],\n        \"semantic_type\": \"\",\n        \"description\": \"\"\n      }\n    },\n    {\n      \"column\": \"AveRooms_AveOccup\",\n      \"properties\": {\n        \"dtype\": \"number\",\n        \"std\": 0.7505232003475398,\n        \"min\": 1.0021156558533146,\n        \"max\": 2.7254004576659043,\n        \"num_unique_values\": 5,\n        \"samples\": [\n          2.573820395738204,\n          2.7254004576659043,\n          2.073224043715847\n        ],\n        \"semantic_type\": \"\",\n        \"description\": \"\"\n      }\n    },\n    {\n      \"column\": \"Distance_from_center\",\n      \"properties\": {\n        \"dtype\": \"number\",\n        \"std\": 1.305762784928905,\n        \"min\": 1.1710073455983034,\n        \"max\": 3.871352860549779,\n        \"num_unique_values\": 5,\n        \"samples\": [\n          2.3353360907872576,\n          1.1710073455983034,\n          1.33159777036832\n        ],\n        \"semantic_type\": \"\",\n        \"description\": \"\"\n      }\n    }\n  ]\n}"
            }
          },
          "metadata": {}
        },
        {
          "output_type": "display_data",
          "data": {
            "text/plain": [
              "       MedInc  HouseAge  AveRooms  AveBedrms  Population  AveOccup  Latitude  \\\n",
              "20046  1.6812      25.0  4.192201   1.022284      1392.0  3.877437     36.06   \n",
              "3024   2.5313      30.0  5.039384   1.193493      1565.0  2.679795     35.14   \n",
              "15663  3.4801      52.0  3.977155   1.185877      1310.0  1.360332     37.80   \n",
              "20484  5.7376      17.0  6.163636   1.020202      1705.0  3.444444     34.28   \n",
              "9814   3.7250      34.0  5.492991   1.028037      1063.0  2.483645     36.62   \n",
              "\n",
              "       Longitude  MedInc_HouseAge  AveRooms_AveOccup  Distance_from_center  \n",
              "20046    -119.01          42.0300           1.081178              0.704678  \n",
              "3024     -119.46          75.9390           1.880511              0.503947  \n",
              "15663    -122.44         180.9652           2.923664              3.597141  \n",
              "20484    -118.72          97.5392           1.789443              1.596724  \n",
              "9814     -121.93         126.6500           2.211665              2.558791  "
            ],
            "text/html": [
              "\n",
              "  <div id=\"df-7652301e-7386-46f6-aa2d-83816426c0db\" class=\"colab-df-container\">\n",
              "    <div>\n",
              "<style scoped>\n",
              "    .dataframe tbody tr th:only-of-type {\n",
              "        vertical-align: middle;\n",
              "    }\n",
              "\n",
              "    .dataframe tbody tr th {\n",
              "        vertical-align: top;\n",
              "    }\n",
              "\n",
              "    .dataframe thead th {\n",
              "        text-align: right;\n",
              "    }\n",
              "</style>\n",
              "<table border=\"1\" class=\"dataframe\">\n",
              "  <thead>\n",
              "    <tr style=\"text-align: right;\">\n",
              "      <th></th>\n",
              "      <th>MedInc</th>\n",
              "      <th>HouseAge</th>\n",
              "      <th>AveRooms</th>\n",
              "      <th>AveBedrms</th>\n",
              "      <th>Population</th>\n",
              "      <th>AveOccup</th>\n",
              "      <th>Latitude</th>\n",
              "      <th>Longitude</th>\n",
              "      <th>MedInc_HouseAge</th>\n",
              "      <th>AveRooms_AveOccup</th>\n",
              "      <th>Distance_from_center</th>\n",
              "    </tr>\n",
              "  </thead>\n",
              "  <tbody>\n",
              "    <tr>\n",
              "      <th>20046</th>\n",
              "      <td>1.6812</td>\n",
              "      <td>25.0</td>\n",
              "      <td>4.192201</td>\n",
              "      <td>1.022284</td>\n",
              "      <td>1392.0</td>\n",
              "      <td>3.877437</td>\n",
              "      <td>36.06</td>\n",
              "      <td>-119.01</td>\n",
              "      <td>42.0300</td>\n",
              "      <td>1.081178</td>\n",
              "      <td>0.704678</td>\n",
              "    </tr>\n",
              "    <tr>\n",
              "      <th>3024</th>\n",
              "      <td>2.5313</td>\n",
              "      <td>30.0</td>\n",
              "      <td>5.039384</td>\n",
              "      <td>1.193493</td>\n",
              "      <td>1565.0</td>\n",
              "      <td>2.679795</td>\n",
              "      <td>35.14</td>\n",
              "      <td>-119.46</td>\n",
              "      <td>75.9390</td>\n",
              "      <td>1.880511</td>\n",
              "      <td>0.503947</td>\n",
              "    </tr>\n",
              "    <tr>\n",
              "      <th>15663</th>\n",
              "      <td>3.4801</td>\n",
              "      <td>52.0</td>\n",
              "      <td>3.977155</td>\n",
              "      <td>1.185877</td>\n",
              "      <td>1310.0</td>\n",
              "      <td>1.360332</td>\n",
              "      <td>37.80</td>\n",
              "      <td>-122.44</td>\n",
              "      <td>180.9652</td>\n",
              "      <td>2.923664</td>\n",
              "      <td>3.597141</td>\n",
              "    </tr>\n",
              "    <tr>\n",
              "      <th>20484</th>\n",
              "      <td>5.7376</td>\n",
              "      <td>17.0</td>\n",
              "      <td>6.163636</td>\n",
              "      <td>1.020202</td>\n",
              "      <td>1705.0</td>\n",
              "      <td>3.444444</td>\n",
              "      <td>34.28</td>\n",
              "      <td>-118.72</td>\n",
              "      <td>97.5392</td>\n",
              "      <td>1.789443</td>\n",
              "      <td>1.596724</td>\n",
              "    </tr>\n",
              "    <tr>\n",
              "      <th>9814</th>\n",
              "      <td>3.7250</td>\n",
              "      <td>34.0</td>\n",
              "      <td>5.492991</td>\n",
              "      <td>1.028037</td>\n",
              "      <td>1063.0</td>\n",
              "      <td>2.483645</td>\n",
              "      <td>36.62</td>\n",
              "      <td>-121.93</td>\n",
              "      <td>126.6500</td>\n",
              "      <td>2.211665</td>\n",
              "      <td>2.558791</td>\n",
              "    </tr>\n",
              "  </tbody>\n",
              "</table>\n",
              "</div>\n",
              "    <div class=\"colab-df-buttons\">\n",
              "\n",
              "  <div class=\"colab-df-container\">\n",
              "    <button class=\"colab-df-convert\" onclick=\"convertToInteractive('df-7652301e-7386-46f6-aa2d-83816426c0db')\"\n",
              "            title=\"Convert this dataframe to an interactive table.\"\n",
              "            style=\"display:none;\">\n",
              "\n",
              "  <svg xmlns=\"http://www.w3.org/2000/svg\" height=\"24px\" viewBox=\"0 -960 960 960\">\n",
              "    <path d=\"M120-120v-720h720v720H120Zm60-500h600v-160H180v160Zm220 220h160v-160H400v160Zm0 220h160v-160H400v160ZM180-400h160v-160H180v160Zm440 0h160v-160H620v160ZM180-180h160v-160H180v160Zm440 0h160v-160H620v160Z\"/>\n",
              "  </svg>\n",
              "    </button>\n",
              "\n",
              "  <style>\n",
              "    .colab-df-container {\n",
              "      display:flex;\n",
              "      gap: 12px;\n",
              "    }\n",
              "\n",
              "    .colab-df-convert {\n",
              "      background-color: #E8F0FE;\n",
              "      border: none;\n",
              "      border-radius: 50%;\n",
              "      cursor: pointer;\n",
              "      display: none;\n",
              "      fill: #1967D2;\n",
              "      height: 32px;\n",
              "      padding: 0 0 0 0;\n",
              "      width: 32px;\n",
              "    }\n",
              "\n",
              "    .colab-df-convert:hover {\n",
              "      background-color: #E2EBFA;\n",
              "      box-shadow: 0px 1px 2px rgba(60, 64, 67, 0.3), 0px 1px 3px 1px rgba(60, 64, 67, 0.15);\n",
              "      fill: #174EA6;\n",
              "    }\n",
              "\n",
              "    .colab-df-buttons div {\n",
              "      margin-bottom: 4px;\n",
              "    }\n",
              "\n",
              "    [theme=dark] .colab-df-convert {\n",
              "      background-color: #3B4455;\n",
              "      fill: #D2E3FC;\n",
              "    }\n",
              "\n",
              "    [theme=dark] .colab-df-convert:hover {\n",
              "      background-color: #434B5C;\n",
              "      box-shadow: 0px 1px 3px 1px rgba(0, 0, 0, 0.15);\n",
              "      filter: drop-shadow(0px 1px 2px rgba(0, 0, 0, 0.3));\n",
              "      fill: #FFFFFF;\n",
              "    }\n",
              "  </style>\n",
              "\n",
              "    <script>\n",
              "      const buttonEl =\n",
              "        document.querySelector('#df-7652301e-7386-46f6-aa2d-83816426c0db button.colab-df-convert');\n",
              "      buttonEl.style.display =\n",
              "        google.colab.kernel.accessAllowed ? 'block' : 'none';\n",
              "\n",
              "      async function convertToInteractive(key) {\n",
              "        const element = document.querySelector('#df-7652301e-7386-46f6-aa2d-83816426c0db');\n",
              "        const dataTable =\n",
              "          await google.colab.kernel.invokeFunction('convertToInteractive',\n",
              "                                                    [key], {});\n",
              "        if (!dataTable) return;\n",
              "\n",
              "        const docLinkHtml = 'Like what you see? Visit the ' +\n",
              "          '<a target=\"_blank\" href=https://colab.research.google.com/notebooks/data_table.ipynb>data table notebook</a>'\n",
              "          + ' to learn more about interactive tables.';\n",
              "        element.innerHTML = '';\n",
              "        dataTable['output_type'] = 'display_data';\n",
              "        await google.colab.output.renderOutput(dataTable, element);\n",
              "        const docLink = document.createElement('div');\n",
              "        docLink.innerHTML = docLinkHtml;\n",
              "        element.appendChild(docLink);\n",
              "      }\n",
              "    </script>\n",
              "  </div>\n",
              "\n",
              "\n",
              "    <div id=\"df-90452aad-c164-444a-b77a-77415f5728bf\">\n",
              "      <button class=\"colab-df-quickchart\" onclick=\"quickchart('df-90452aad-c164-444a-b77a-77415f5728bf')\"\n",
              "                title=\"Suggest charts\"\n",
              "                style=\"display:none;\">\n",
              "\n",
              "<svg xmlns=\"http://www.w3.org/2000/svg\" height=\"24px\"viewBox=\"0 0 24 24\"\n",
              "     width=\"24px\">\n",
              "    <g>\n",
              "        <path d=\"M19 3H5c-1.1 0-2 .9-2 2v14c0 1.1.9 2 2 2h14c1.1 0 2-.9 2-2V5c0-1.1-.9-2-2-2zM9 17H7v-7h2v7zm4 0h-2V7h2v10zm4 0h-2v-4h2v4z\"/>\n",
              "    </g>\n",
              "</svg>\n",
              "      </button>\n",
              "\n",
              "<style>\n",
              "  .colab-df-quickchart {\n",
              "      --bg-color: #E8F0FE;\n",
              "      --fill-color: #1967D2;\n",
              "      --hover-bg-color: #E2EBFA;\n",
              "      --hover-fill-color: #174EA6;\n",
              "      --disabled-fill-color: #AAA;\n",
              "      --disabled-bg-color: #DDD;\n",
              "  }\n",
              "\n",
              "  [theme=dark] .colab-df-quickchart {\n",
              "      --bg-color: #3B4455;\n",
              "      --fill-color: #D2E3FC;\n",
              "      --hover-bg-color: #434B5C;\n",
              "      --hover-fill-color: #FFFFFF;\n",
              "      --disabled-bg-color: #3B4455;\n",
              "      --disabled-fill-color: #666;\n",
              "  }\n",
              "\n",
              "  .colab-df-quickchart {\n",
              "    background-color: var(--bg-color);\n",
              "    border: none;\n",
              "    border-radius: 50%;\n",
              "    cursor: pointer;\n",
              "    display: none;\n",
              "    fill: var(--fill-color);\n",
              "    height: 32px;\n",
              "    padding: 0;\n",
              "    width: 32px;\n",
              "  }\n",
              "\n",
              "  .colab-df-quickchart:hover {\n",
              "    background-color: var(--hover-bg-color);\n",
              "    box-shadow: 0 1px 2px rgba(60, 64, 67, 0.3), 0 1px 3px 1px rgba(60, 64, 67, 0.15);\n",
              "    fill: var(--button-hover-fill-color);\n",
              "  }\n",
              "\n",
              "  .colab-df-quickchart-complete:disabled,\n",
              "  .colab-df-quickchart-complete:disabled:hover {\n",
              "    background-color: var(--disabled-bg-color);\n",
              "    fill: var(--disabled-fill-color);\n",
              "    box-shadow: none;\n",
              "  }\n",
              "\n",
              "  .colab-df-spinner {\n",
              "    border: 2px solid var(--fill-color);\n",
              "    border-color: transparent;\n",
              "    border-bottom-color: var(--fill-color);\n",
              "    animation:\n",
              "      spin 1s steps(1) infinite;\n",
              "  }\n",
              "\n",
              "  @keyframes spin {\n",
              "    0% {\n",
              "      border-color: transparent;\n",
              "      border-bottom-color: var(--fill-color);\n",
              "      border-left-color: var(--fill-color);\n",
              "    }\n",
              "    20% {\n",
              "      border-color: transparent;\n",
              "      border-left-color: var(--fill-color);\n",
              "      border-top-color: var(--fill-color);\n",
              "    }\n",
              "    30% {\n",
              "      border-color: transparent;\n",
              "      border-left-color: var(--fill-color);\n",
              "      border-top-color: var(--fill-color);\n",
              "      border-right-color: var(--fill-color);\n",
              "    }\n",
              "    40% {\n",
              "      border-color: transparent;\n",
              "      border-right-color: var(--fill-color);\n",
              "      border-top-color: var(--fill-color);\n",
              "    }\n",
              "    60% {\n",
              "      border-color: transparent;\n",
              "      border-right-color: var(--fill-color);\n",
              "    }\n",
              "    80% {\n",
              "      border-color: transparent;\n",
              "      border-right-color: var(--fill-color);\n",
              "      border-bottom-color: var(--fill-color);\n",
              "    }\n",
              "    90% {\n",
              "      border-color: transparent;\n",
              "      border-bottom-color: var(--fill-color);\n",
              "    }\n",
              "  }\n",
              "</style>\n",
              "\n",
              "      <script>\n",
              "        async function quickchart(key) {\n",
              "          const quickchartButtonEl =\n",
              "            document.querySelector('#' + key + ' button');\n",
              "          quickchartButtonEl.disabled = true;  // To prevent multiple clicks.\n",
              "          quickchartButtonEl.classList.add('colab-df-spinner');\n",
              "          try {\n",
              "            const charts = await google.colab.kernel.invokeFunction(\n",
              "                'suggestCharts', [key], {});\n",
              "          } catch (error) {\n",
              "            console.error('Error during call to suggestCharts:', error);\n",
              "          }\n",
              "          quickchartButtonEl.classList.remove('colab-df-spinner');\n",
              "          quickchartButtonEl.classList.add('colab-df-quickchart-complete');\n",
              "        }\n",
              "        (() => {\n",
              "          let quickchartButtonEl =\n",
              "            document.querySelector('#df-90452aad-c164-444a-b77a-77415f5728bf button');\n",
              "          quickchartButtonEl.style.display =\n",
              "            google.colab.kernel.accessAllowed ? 'block' : 'none';\n",
              "        })();\n",
              "      </script>\n",
              "    </div>\n",
              "\n",
              "    </div>\n",
              "  </div>\n"
            ],
            "application/vnd.google.colaboratory.intrinsic+json": {
              "type": "dataframe",
              "summary": "{\n  \"name\": \"display(X_test_engineered\",\n  \"rows\": 5,\n  \"fields\": [\n    {\n      \"column\": \"MedInc\",\n      \"properties\": {\n        \"dtype\": \"number\",\n        \"std\": 1.5231965148988489,\n        \"min\": 1.6812,\n        \"max\": 5.7376,\n        \"num_unique_values\": 5,\n        \"samples\": [\n          2.5313,\n          3.725,\n          3.4801\n        ],\n        \"semantic_type\": \"\",\n        \"description\": \"\"\n      }\n    },\n    {\n      \"column\": \"HouseAge\",\n      \"properties\": {\n        \"dtype\": \"number\",\n        \"std\": 13.049904214207858,\n        \"min\": 17.0,\n        \"max\": 52.0,\n        \"num_unique_values\": 5,\n        \"samples\": [\n          30.0,\n          34.0,\n          52.0\n        ],\n        \"semantic_type\": \"\",\n        \"description\": \"\"\n      }\n    },\n    {\n      \"column\": \"AveRooms\",\n      \"properties\": {\n        \"dtype\": \"number\",\n        \"std\": 0.9074369900287755,\n        \"min\": 3.977154724818276,\n        \"max\": 6.163636363636364,\n        \"num_unique_values\": 5,\n        \"samples\": [\n          5.039383561643835,\n          5.492990654205608,\n          3.977154724818276\n        ],\n        \"semantic_type\": \"\",\n        \"description\": \"\"\n      }\n    },\n    {\n      \"column\": \"AveBedrms\",\n      \"properties\": {\n        \"dtype\": \"number\",\n        \"std\": 0.09110417451575167,\n        \"min\": 1.02020202020202,\n        \"max\": 1.1934931506849316,\n        \"num_unique_values\": 5,\n        \"samples\": [\n          1.1934931506849316,\n          1.02803738317757,\n          1.185877466251298\n        ],\n        \"semantic_type\": \"\",\n        \"description\": \"\"\n      }\n    },\n    {\n      \"column\": \"Population\",\n      \"properties\": {\n        \"dtype\": \"number\",\n        \"std\": 245.83429378343453,\n        \"min\": 1063.0,\n        \"max\": 1705.0,\n        \"num_unique_values\": 5,\n        \"samples\": [\n          1565.0,\n          1063.0,\n          1310.0\n        ],\n        \"semantic_type\": \"\",\n        \"description\": \"\"\n      }\n    },\n    {\n      \"column\": \"AveOccup\",\n      \"properties\": {\n        \"dtype\": \"number\",\n        \"std\": 0.9693539465214331,\n        \"min\": 1.3603322949117342,\n        \"max\": 3.8774373259052926,\n        \"num_unique_values\": 5,\n        \"samples\": [\n          2.6797945205479454,\n          2.4836448598130842,\n          1.3603322949117342\n        ],\n        \"semantic_type\": \"\",\n        \"description\": \"\"\n      }\n    },\n    {\n      \"column\": \"Latitude\",\n      \"properties\": {\n        \"dtype\": \"number\",\n        \"std\": 1.353144486002879,\n        \"min\": 34.28,\n        \"max\": 37.8,\n        \"num_unique_values\": 5,\n        \"samples\": [\n          35.14,\n          36.62,\n          37.8\n        ],\n        \"semantic_type\": \"\",\n        \"description\": \"\"\n      }\n    },\n    {\n      \"column\": \"Longitude\",\n      \"properties\": {\n        \"dtype\": \"number\",\n        \"std\": 1.7393878233447548,\n        \"min\": -122.44,\n        \"max\": -118.72,\n        \"num_unique_values\": 5,\n        \"samples\": [\n          -119.46,\n          -121.93,\n          -122.44\n        ],\n        \"semantic_type\": \"\",\n        \"description\": \"\"\n      }\n    },\n    {\n      \"column\": \"MedInc_HouseAge\",\n      \"properties\": {\n        \"dtype\": \"number\",\n        \"std\": 52.688129458085726,\n        \"min\": 42.03,\n        \"max\": 180.9652,\n        \"num_unique_values\": 5,\n        \"samples\": [\n          75.939,\n          126.65,\n          180.9652\n        ],\n        \"semantic_type\": \"\",\n        \"description\": \"\"\n      }\n    },\n    {\n      \"column\": \"AveRooms_AveOccup\",\n      \"properties\": {\n        \"dtype\": \"number\",\n        \"std\": 0.6704895223833828,\n        \"min\": 1.08117816091954,\n        \"max\": 2.9236641221374042,\n        \"num_unique_values\": 5,\n        \"samples\": [\n          1.880511182108626,\n          2.211665098777046,\n          2.9236641221374042\n        ],\n        \"semantic_type\": \"\",\n        \"description\": \"\"\n      }\n    },\n    {\n      \"column\": \"Distance_from_center\",\n      \"properties\": {\n        \"dtype\": \"number\",\n        \"std\": 1.2967249741872349,\n        \"min\": 0.5039471582704885,\n        \"max\": 3.597140717706235,\n        \"num_unique_values\": 5,\n        \"samples\": [\n          0.5039471582704885,\n          2.5587912916038933,\n          3.597140717706235\n        ],\n        \"semantic_type\": \"\",\n        \"description\": \"\"\n      }\n    }\n  ]\n}"
            }
          },
          "metadata": {}
        }
      ]
    },
    {
      "cell_type": "markdown",
      "source": [
        "#### This is an excellent demonstration of how to improve model performance beyond just tuning. Feature engineering is often the most impactful part of a project.\n",
        "\n",
        "#### **Feature Engineering**\n",
        "This is the art and science of creating new, more informative features from the existing data. A good engineered feature can capture a complex relationship that the model might otherwise miss.\n",
        "\n",
        "Your New Features:\n",
        "\n",
        "**MedInc_HouseAge:** An interaction term. This could capture the idea that the effect of income on house price might differ depending on the age of the housing stock in the area.\n",
        "\n",
        "**AveRooms_AveOccup:** A ratio. This might be a better proxy for spaciousness than either feature alone. A high number of rooms with low occupancy might indicate a more desirable, larger home.\n",
        "\n",
        "**Distance_from_center:** A spatial feature. This is a great idea, as house prices are often strongly correlated with location and proximity to major city centers.\n",
        "\n",
        "\n",
        "By creating these features, you are explicitly giving the model information that was only implicitly present in the original data."
      ],
      "metadata": {
        "id": "xW7-NELNGozs"
      }
    },
    {
      "cell_type": "markdown",
      "metadata": {
        "id": "777d4434"
      },
      "source": [
        "## Step 9: Standardise Engineered Features\n",
        "\n",
        "We need to standardise the newly engineered features as regularization models are sensitive to feature scale."
      ]
    },
    {
      "cell_type": "code",
      "metadata": {
        "id": "e5d9ce25"
      },
      "source": [
        "scaler_engineered = StandardScaler()\n",
        "X_train_engineered_scaled = scaler_engineered.fit_transform(X_train_engineered)\n",
        "X_test_engineered_scaled = scaler_engineered.transform(X_test_engineered)"
      ],
      "execution_count": 20,
      "outputs": []
    },
    {
      "cell_type": "markdown",
      "metadata": {
        "id": "07a7e93e"
      },
      "source": [
        "## Step 10: Train Models with Engineered Features"
      ]
    },
    {
      "cell_type": "markdown",
      "metadata": {
        "id": "ab4228d6"
      },
      "source": [
        "### 1. Linear Regression with Engineered Features"
      ]
    },
    {
      "cell_type": "code",
      "metadata": {
        "colab": {
          "base_uri": "https://localhost:8080/"
        },
        "id": "2b9aa331",
        "outputId": "34029733-8b57-42f1-a72c-f071024a77ff"
      },
      "source": [
        "lr_engineered = LinearRegression()\n",
        "lr_engineered.fit(X_train_engineered_scaled, y_train)\n",
        "\n",
        "y_pred_lr_engineered = lr_engineered.predict(X_test_engineered_scaled)\n",
        "\n",
        "print(\"Linear Regression with Engineered Features: \")\n",
        "print(\"R2: \", r2_score(y_test, y_pred_lr_engineered))\n",
        "print(\"RMSE: \", np.sqrt(mean_squared_error(y_test, y_pred_lr_engineered)))"
      ],
      "execution_count": 21,
      "outputs": [
        {
          "output_type": "stream",
          "name": "stdout",
          "text": [
            "Linear Regression with Engineered Features: \n",
            "R2:  0.6394692631290806\n",
            "RMSE:  0.6873446839304572\n"
          ]
        }
      ]
    },
    {
      "cell_type": "markdown",
      "metadata": {
        "id": "1dd22539"
      },
      "source": [
        "### 2. Ridge Regression (L2 Regularization) with Engineered Features"
      ]
    },
    {
      "cell_type": "code",
      "metadata": {
        "colab": {
          "base_uri": "https://localhost:8080/"
        },
        "id": "5f6ae3c7",
        "outputId": "eeebfadf-1705-4647-edfc-3db6e3e1f1ca"
      },
      "source": [
        "ridge_engineered = Ridge(alpha=0.1) # Using the best alpha found earlier\n",
        "ridge_engineered.fit(X_train_engineered_scaled, y_train)\n",
        "y_pred_ridge_engineered = ridge_engineered.predict(X_test_engineered_scaled)\n",
        "\n",
        "print(\"Ridge Regression with Engineered Features: \")\n",
        "print(\"R2: \", r2_score(y_test, y_pred_ridge_engineered))\n",
        "print(\"RMSE: \", np.sqrt(mean_squared_error(y_test, y_pred_ridge_engineered)))"
      ],
      "execution_count": 22,
      "outputs": [
        {
          "output_type": "stream",
          "name": "stdout",
          "text": [
            "Ridge Regression with Engineered Features: \n",
            "R2:  0.6394690712626954\n",
            "RMSE:  0.6873448668251577\n"
          ]
        }
      ]
    },
    {
      "cell_type": "markdown",
      "metadata": {
        "id": "edcff368"
      },
      "source": [
        "### 3. Lasso Regularization (L1 Regularization) with Engineered Features"
      ]
    },
    {
      "cell_type": "code",
      "metadata": {
        "colab": {
          "base_uri": "https://localhost:8080/"
        },
        "id": "d88c94b0",
        "outputId": "648d5cf4-dd46-4153-8ae3-4f98b37c4f46"
      },
      "source": [
        "lasso_engineered = Lasso(alpha=0.001) # Using the best alpha found earlier\n",
        "lasso_engineered.fit(X_train_engineered_scaled, y_train)\n",
        "y_pred_lasso_engineered = lasso_engineered.predict(X_test_engineered_scaled)\n",
        "\n",
        "print(\"Lasso Regression with Engineered Features:\")\n",
        "print(\"R2: \", r2_score(y_test, y_pred_lasso_engineered))\n",
        "print(\"RMSE: \", np.sqrt(mean_squared_error(y_test, y_pred_lasso_engineered)))"
      ],
      "execution_count": 23,
      "outputs": [
        {
          "output_type": "stream",
          "name": "stdout",
          "text": [
            "Lasso Regression with Engineered Features:\n",
            "R2:  0.6396187283306781\n",
            "RMSE:  0.6872021929427701\n"
          ]
        }
      ]
    },
    {
      "cell_type": "markdown",
      "metadata": {
        "id": "5f09e186"
      },
      "source": [
        "### 4. Elastic Net (L1 + L2 Regularization) with Engineered Features"
      ]
    },
    {
      "cell_type": "code",
      "metadata": {
        "colab": {
          "base_uri": "https://localhost:8080/"
        },
        "id": "808972b1",
        "outputId": "48e09974-9129-4354-f6bc-dbc46262135f"
      },
      "source": [
        "elastic_engineered = ElasticNet(alpha=0.001, l1_ratio=0.9) # Using the best parameters found earlier\n",
        "elastic_engineered.fit(X_train_engineered_scaled, y_train)\n",
        "y_pred_elastic_engineered = elastic_engineered.predict(X_test_engineered_scaled)\n",
        "\n",
        "print(\"Elastic Net Regression with Engineered Features:\")\n",
        "print(\"R2: \", r2_score(y_test, y_pred_elastic_engineered))\n",
        "print(\"RMSE: \", np.sqrt(mean_squared_error(y_test, y_pred_elastic_engineered)))"
      ],
      "execution_count": 24,
      "outputs": [
        {
          "output_type": "stream",
          "name": "stdout",
          "text": [
            "Elastic Net Regression with Engineered Features:\n",
            "R2:  0.6395997558310369\n",
            "RMSE:  0.6872202818014189\n"
          ]
        }
      ]
    },
    {
      "cell_type": "markdown",
      "metadata": {
        "id": "b9ee6b5d"
      },
      "source": [
        "## Step 11: Compare Model Performance with and without Engineered Features"
      ]
    },
    {
      "cell_type": "code",
      "metadata": {
        "colab": {
          "base_uri": "https://localhost:8080/",
          "height": 318
        },
        "id": "847bee5c",
        "outputId": "c8d9c3eb-d15a-40ff-e824-1f8573b8a349"
      },
      "source": [
        "models_engineered = ['Linear (Engineered)', 'Ridge (Engineered)', 'Lasso (Engineered)', 'ElasticNet (Engineered)']\n",
        "r2_scores_engineered = [\n",
        "    r2_score(y_test, y_pred_lr_engineered),\n",
        "    r2_score(y_test, y_pred_ridge_engineered),\n",
        "    r2_score(y_test, y_pred_lasso_engineered),\n",
        "    r2_score(y_test, y_pred_elastic_engineered)\n",
        "]\n",
        "\n",
        "rmse_scores_engineered = [\n",
        "    np.sqrt(mean_squared_error(y_test, y_pred_lr_engineered)),\n",
        "    np.sqrt(mean_squared_error(y_test, y_pred_ridge_engineered)),\n",
        "    np.sqrt(mean_squared_error(y_test, y_pred_lasso_engineered)),\n",
        "    np.sqrt(mean_squared_error(y_test, y_pred_elastic_engineered))\n",
        "]\n",
        "\n",
        "results_engineered = pd.DataFrame({\n",
        "    'Model': models_engineered,\n",
        "    'R2 Score': r2_scores_engineered,\n",
        "    'RMSE': rmse_scores_engineered\n",
        "})\n",
        "\n",
        "# Combine the results DataFrames for easier comparison\n",
        "combined_results = pd.concat([results, results_engineered])\n",
        "\n",
        "print(\"Model Performance Comparison (with and without Engineered Features):\")\n",
        "display(combined_results)"
      ],
      "execution_count": 25,
      "outputs": [
        {
          "output_type": "stream",
          "name": "stdout",
          "text": [
            "Model Performance Comparison (with and without Engineered Features):\n"
          ]
        },
        {
          "output_type": "display_data",
          "data": {
            "text/plain": [
              "                     Model  R2 Score      RMSE\n",
              "0                   Linear  0.575788  0.745581\n",
              "1                    Ridge  0.575791  0.745579\n",
              "2                    Lasso  0.576856  0.744642\n",
              "3               ElasticNet  0.576794  0.744697\n",
              "0      Linear (Engineered)  0.639469  0.687345\n",
              "1       Ridge (Engineered)  0.639469  0.687345\n",
              "2       Lasso (Engineered)  0.639619  0.687202\n",
              "3  ElasticNet (Engineered)  0.639600  0.687220"
            ],
            "text/html": [
              "\n",
              "  <div id=\"df-a82456eb-76c0-44fa-b19c-8413e0dba134\" class=\"colab-df-container\">\n",
              "    <div>\n",
              "<style scoped>\n",
              "    .dataframe tbody tr th:only-of-type {\n",
              "        vertical-align: middle;\n",
              "    }\n",
              "\n",
              "    .dataframe tbody tr th {\n",
              "        vertical-align: top;\n",
              "    }\n",
              "\n",
              "    .dataframe thead th {\n",
              "        text-align: right;\n",
              "    }\n",
              "</style>\n",
              "<table border=\"1\" class=\"dataframe\">\n",
              "  <thead>\n",
              "    <tr style=\"text-align: right;\">\n",
              "      <th></th>\n",
              "      <th>Model</th>\n",
              "      <th>R2 Score</th>\n",
              "      <th>RMSE</th>\n",
              "    </tr>\n",
              "  </thead>\n",
              "  <tbody>\n",
              "    <tr>\n",
              "      <th>0</th>\n",
              "      <td>Linear</td>\n",
              "      <td>0.575788</td>\n",
              "      <td>0.745581</td>\n",
              "    </tr>\n",
              "    <tr>\n",
              "      <th>1</th>\n",
              "      <td>Ridge</td>\n",
              "      <td>0.575791</td>\n",
              "      <td>0.745579</td>\n",
              "    </tr>\n",
              "    <tr>\n",
              "      <th>2</th>\n",
              "      <td>Lasso</td>\n",
              "      <td>0.576856</td>\n",
              "      <td>0.744642</td>\n",
              "    </tr>\n",
              "    <tr>\n",
              "      <th>3</th>\n",
              "      <td>ElasticNet</td>\n",
              "      <td>0.576794</td>\n",
              "      <td>0.744697</td>\n",
              "    </tr>\n",
              "    <tr>\n",
              "      <th>0</th>\n",
              "      <td>Linear (Engineered)</td>\n",
              "      <td>0.639469</td>\n",
              "      <td>0.687345</td>\n",
              "    </tr>\n",
              "    <tr>\n",
              "      <th>1</th>\n",
              "      <td>Ridge (Engineered)</td>\n",
              "      <td>0.639469</td>\n",
              "      <td>0.687345</td>\n",
              "    </tr>\n",
              "    <tr>\n",
              "      <th>2</th>\n",
              "      <td>Lasso (Engineered)</td>\n",
              "      <td>0.639619</td>\n",
              "      <td>0.687202</td>\n",
              "    </tr>\n",
              "    <tr>\n",
              "      <th>3</th>\n",
              "      <td>ElasticNet (Engineered)</td>\n",
              "      <td>0.639600</td>\n",
              "      <td>0.687220</td>\n",
              "    </tr>\n",
              "  </tbody>\n",
              "</table>\n",
              "</div>\n",
              "    <div class=\"colab-df-buttons\">\n",
              "\n",
              "  <div class=\"colab-df-container\">\n",
              "    <button class=\"colab-df-convert\" onclick=\"convertToInteractive('df-a82456eb-76c0-44fa-b19c-8413e0dba134')\"\n",
              "            title=\"Convert this dataframe to an interactive table.\"\n",
              "            style=\"display:none;\">\n",
              "\n",
              "  <svg xmlns=\"http://www.w3.org/2000/svg\" height=\"24px\" viewBox=\"0 -960 960 960\">\n",
              "    <path d=\"M120-120v-720h720v720H120Zm60-500h600v-160H180v160Zm220 220h160v-160H400v160Zm0 220h160v-160H400v160ZM180-400h160v-160H180v160Zm440 0h160v-160H620v160ZM180-180h160v-160H180v160Zm440 0h160v-160H620v160Z\"/>\n",
              "  </svg>\n",
              "    </button>\n",
              "\n",
              "  <style>\n",
              "    .colab-df-container {\n",
              "      display:flex;\n",
              "      gap: 12px;\n",
              "    }\n",
              "\n",
              "    .colab-df-convert {\n",
              "      background-color: #E8F0FE;\n",
              "      border: none;\n",
              "      border-radius: 50%;\n",
              "      cursor: pointer;\n",
              "      display: none;\n",
              "      fill: #1967D2;\n",
              "      height: 32px;\n",
              "      padding: 0 0 0 0;\n",
              "      width: 32px;\n",
              "    }\n",
              "\n",
              "    .colab-df-convert:hover {\n",
              "      background-color: #E2EBFA;\n",
              "      box-shadow: 0px 1px 2px rgba(60, 64, 67, 0.3), 0px 1px 3px 1px rgba(60, 64, 67, 0.15);\n",
              "      fill: #174EA6;\n",
              "    }\n",
              "\n",
              "    .colab-df-buttons div {\n",
              "      margin-bottom: 4px;\n",
              "    }\n",
              "\n",
              "    [theme=dark] .colab-df-convert {\n",
              "      background-color: #3B4455;\n",
              "      fill: #D2E3FC;\n",
              "    }\n",
              "\n",
              "    [theme=dark] .colab-df-convert:hover {\n",
              "      background-color: #434B5C;\n",
              "      box-shadow: 0px 1px 3px 1px rgba(0, 0, 0, 0.15);\n",
              "      filter: drop-shadow(0px 1px 2px rgba(0, 0, 0, 0.3));\n",
              "      fill: #FFFFFF;\n",
              "    }\n",
              "  </style>\n",
              "\n",
              "    <script>\n",
              "      const buttonEl =\n",
              "        document.querySelector('#df-a82456eb-76c0-44fa-b19c-8413e0dba134 button.colab-df-convert');\n",
              "      buttonEl.style.display =\n",
              "        google.colab.kernel.accessAllowed ? 'block' : 'none';\n",
              "\n",
              "      async function convertToInteractive(key) {\n",
              "        const element = document.querySelector('#df-a82456eb-76c0-44fa-b19c-8413e0dba134');\n",
              "        const dataTable =\n",
              "          await google.colab.kernel.invokeFunction('convertToInteractive',\n",
              "                                                    [key], {});\n",
              "        if (!dataTable) return;\n",
              "\n",
              "        const docLinkHtml = 'Like what you see? Visit the ' +\n",
              "          '<a target=\"_blank\" href=https://colab.research.google.com/notebooks/data_table.ipynb>data table notebook</a>'\n",
              "          + ' to learn more about interactive tables.';\n",
              "        element.innerHTML = '';\n",
              "        dataTable['output_type'] = 'display_data';\n",
              "        await google.colab.output.renderOutput(dataTable, element);\n",
              "        const docLink = document.createElement('div');\n",
              "        docLink.innerHTML = docLinkHtml;\n",
              "        element.appendChild(docLink);\n",
              "      }\n",
              "    </script>\n",
              "  </div>\n",
              "\n",
              "\n",
              "    <div id=\"df-1c278f83-a646-49be-aa64-9d0b1927aa99\">\n",
              "      <button class=\"colab-df-quickchart\" onclick=\"quickchart('df-1c278f83-a646-49be-aa64-9d0b1927aa99')\"\n",
              "                title=\"Suggest charts\"\n",
              "                style=\"display:none;\">\n",
              "\n",
              "<svg xmlns=\"http://www.w3.org/2000/svg\" height=\"24px\"viewBox=\"0 0 24 24\"\n",
              "     width=\"24px\">\n",
              "    <g>\n",
              "        <path d=\"M19 3H5c-1.1 0-2 .9-2 2v14c0 1.1.9 2 2 2h14c1.1 0 2-.9 2-2V5c0-1.1-.9-2-2-2zM9 17H7v-7h2v7zm4 0h-2V7h2v10zm4 0h-2v-4h2v4z\"/>\n",
              "    </g>\n",
              "</svg>\n",
              "      </button>\n",
              "\n",
              "<style>\n",
              "  .colab-df-quickchart {\n",
              "      --bg-color: #E8F0FE;\n",
              "      --fill-color: #1967D2;\n",
              "      --hover-bg-color: #E2EBFA;\n",
              "      --hover-fill-color: #174EA6;\n",
              "      --disabled-fill-color: #AAA;\n",
              "      --disabled-bg-color: #DDD;\n",
              "  }\n",
              "\n",
              "  [theme=dark] .colab-df-quickchart {\n",
              "      --bg-color: #3B4455;\n",
              "      --fill-color: #D2E3FC;\n",
              "      --hover-bg-color: #434B5C;\n",
              "      --hover-fill-color: #FFFFFF;\n",
              "      --disabled-bg-color: #3B4455;\n",
              "      --disabled-fill-color: #666;\n",
              "  }\n",
              "\n",
              "  .colab-df-quickchart {\n",
              "    background-color: var(--bg-color);\n",
              "    border: none;\n",
              "    border-radius: 50%;\n",
              "    cursor: pointer;\n",
              "    display: none;\n",
              "    fill: var(--fill-color);\n",
              "    height: 32px;\n",
              "    padding: 0;\n",
              "    width: 32px;\n",
              "  }\n",
              "\n",
              "  .colab-df-quickchart:hover {\n",
              "    background-color: var(--hover-bg-color);\n",
              "    box-shadow: 0 1px 2px rgba(60, 64, 67, 0.3), 0 1px 3px 1px rgba(60, 64, 67, 0.15);\n",
              "    fill: var(--button-hover-fill-color);\n",
              "  }\n",
              "\n",
              "  .colab-df-quickchart-complete:disabled,\n",
              "  .colab-df-quickchart-complete:disabled:hover {\n",
              "    background-color: var(--disabled-bg-color);\n",
              "    fill: var(--disabled-fill-color);\n",
              "    box-shadow: none;\n",
              "  }\n",
              "\n",
              "  .colab-df-spinner {\n",
              "    border: 2px solid var(--fill-color);\n",
              "    border-color: transparent;\n",
              "    border-bottom-color: var(--fill-color);\n",
              "    animation:\n",
              "      spin 1s steps(1) infinite;\n",
              "  }\n",
              "\n",
              "  @keyframes spin {\n",
              "    0% {\n",
              "      border-color: transparent;\n",
              "      border-bottom-color: var(--fill-color);\n",
              "      border-left-color: var(--fill-color);\n",
              "    }\n",
              "    20% {\n",
              "      border-color: transparent;\n",
              "      border-left-color: var(--fill-color);\n",
              "      border-top-color: var(--fill-color);\n",
              "    }\n",
              "    30% {\n",
              "      border-color: transparent;\n",
              "      border-left-color: var(--fill-color);\n",
              "      border-top-color: var(--fill-color);\n",
              "      border-right-color: var(--fill-color);\n",
              "    }\n",
              "    40% {\n",
              "      border-color: transparent;\n",
              "      border-right-color: var(--fill-color);\n",
              "      border-top-color: var(--fill-color);\n",
              "    }\n",
              "    60% {\n",
              "      border-color: transparent;\n",
              "      border-right-color: var(--fill-color);\n",
              "    }\n",
              "    80% {\n",
              "      border-color: transparent;\n",
              "      border-right-color: var(--fill-color);\n",
              "      border-bottom-color: var(--fill-color);\n",
              "    }\n",
              "    90% {\n",
              "      border-color: transparent;\n",
              "      border-bottom-color: var(--fill-color);\n",
              "    }\n",
              "  }\n",
              "</style>\n",
              "\n",
              "      <script>\n",
              "        async function quickchart(key) {\n",
              "          const quickchartButtonEl =\n",
              "            document.querySelector('#' + key + ' button');\n",
              "          quickchartButtonEl.disabled = true;  // To prevent multiple clicks.\n",
              "          quickchartButtonEl.classList.add('colab-df-spinner');\n",
              "          try {\n",
              "            const charts = await google.colab.kernel.invokeFunction(\n",
              "                'suggestCharts', [key], {});\n",
              "          } catch (error) {\n",
              "            console.error('Error during call to suggestCharts:', error);\n",
              "          }\n",
              "          quickchartButtonEl.classList.remove('colab-df-spinner');\n",
              "          quickchartButtonEl.classList.add('colab-df-quickchart-complete');\n",
              "        }\n",
              "        (() => {\n",
              "          let quickchartButtonEl =\n",
              "            document.querySelector('#df-1c278f83-a646-49be-aa64-9d0b1927aa99 button');\n",
              "          quickchartButtonEl.style.display =\n",
              "            google.colab.kernel.accessAllowed ? 'block' : 'none';\n",
              "        })();\n",
              "      </script>\n",
              "    </div>\n",
              "\n",
              "  <div id=\"id_f643d62a-5588-4094-b505-c4164a33b00a\">\n",
              "    <style>\n",
              "      .colab-df-generate {\n",
              "        background-color: #E8F0FE;\n",
              "        border: none;\n",
              "        border-radius: 50%;\n",
              "        cursor: pointer;\n",
              "        display: none;\n",
              "        fill: #1967D2;\n",
              "        height: 32px;\n",
              "        padding: 0 0 0 0;\n",
              "        width: 32px;\n",
              "      }\n",
              "\n",
              "      .colab-df-generate:hover {\n",
              "        background-color: #E2EBFA;\n",
              "        box-shadow: 0px 1px 2px rgba(60, 64, 67, 0.3), 0px 1px 3px 1px rgba(60, 64, 67, 0.15);\n",
              "        fill: #174EA6;\n",
              "      }\n",
              "\n",
              "      [theme=dark] .colab-df-generate {\n",
              "        background-color: #3B4455;\n",
              "        fill: #D2E3FC;\n",
              "      }\n",
              "\n",
              "      [theme=dark] .colab-df-generate:hover {\n",
              "        background-color: #434B5C;\n",
              "        box-shadow: 0px 1px 3px 1px rgba(0, 0, 0, 0.15);\n",
              "        filter: drop-shadow(0px 1px 2px rgba(0, 0, 0, 0.3));\n",
              "        fill: #FFFFFF;\n",
              "      }\n",
              "    </style>\n",
              "    <button class=\"colab-df-generate\" onclick=\"generateWithVariable('combined_results')\"\n",
              "            title=\"Generate code using this dataframe.\"\n",
              "            style=\"display:none;\">\n",
              "\n",
              "  <svg xmlns=\"http://www.w3.org/2000/svg\" height=\"24px\"viewBox=\"0 0 24 24\"\n",
              "       width=\"24px\">\n",
              "    <path d=\"M7,19H8.4L18.45,9,17,7.55,7,17.6ZM5,21V16.75L18.45,3.32a2,2,0,0,1,2.83,0l1.4,1.43a1.91,1.91,0,0,1,.58,1.4,1.91,1.91,0,0,1-.58,1.4L9.25,21ZM18.45,9,17,7.55Zm-12,3A5.31,5.31,0,0,0,4.9,8.1,5.31,5.31,0,0,0,1,6.5,5.31,5.31,0,0,0,4.9,4.9,5.31,5.31,0,0,0,6.5,1,5.31,5.31,0,0,0,8.1,4.9,5.31,5.31,0,0,0,12,6.5,5.46,5.46,0,0,0,6.5,12Z\"/>\n",
              "  </svg>\n",
              "    </button>\n",
              "    <script>\n",
              "      (() => {\n",
              "      const buttonEl =\n",
              "        document.querySelector('#id_f643d62a-5588-4094-b505-c4164a33b00a button.colab-df-generate');\n",
              "      buttonEl.style.display =\n",
              "        google.colab.kernel.accessAllowed ? 'block' : 'none';\n",
              "\n",
              "      buttonEl.onclick = () => {\n",
              "        google.colab.notebook.generateWithVariable('combined_results');\n",
              "      }\n",
              "      })();\n",
              "    </script>\n",
              "  </div>\n",
              "\n",
              "    </div>\n",
              "  </div>\n"
            ],
            "application/vnd.google.colaboratory.intrinsic+json": {
              "type": "dataframe",
              "variable_name": "combined_results",
              "summary": "{\n  \"name\": \"combined_results\",\n  \"rows\": 8,\n  \"fields\": [\n    {\n      \"column\": \"Model\",\n      \"properties\": {\n        \"dtype\": \"string\",\n        \"num_unique_values\": 8,\n        \"samples\": [\n          \"Ridge\",\n          \"Ridge (Engineered)\",\n          \"Linear\"\n        ],\n        \"semantic_type\": \"\",\n        \"description\": \"\"\n      }\n    },\n    {\n      \"column\": \"R2 Score\",\n      \"properties\": {\n        \"dtype\": \"number\",\n        \"std\": 0.03380134271508448,\n        \"min\": 0.575787706032451,\n        \"max\": 0.6396187283306781,\n        \"num_unique_values\": 8,\n        \"samples\": [\n          0.5757905180002315,\n          0.6394690712626954,\n          0.575787706032451\n        ],\n        \"semantic_type\": \"\",\n        \"description\": \"\"\n      }\n    },\n    {\n      \"column\": \"RMSE\",\n      \"properties\": {\n        \"dtype\": \"number\",\n        \"std\": 0.03092234522431025,\n        \"min\": 0.6872021929427701,\n        \"max\": 0.7455813830127763,\n        \"num_unique_values\": 8,\n        \"samples\": [\n          0.7455789118982764,\n          0.6873448668251577,\n          0.7455813830127763\n        ],\n        \"semantic_type\": \"\",\n        \"description\": \"\"\n      }\n    }\n  ]\n}"
            }
          },
          "metadata": {}
        }
      ]
    },
    {
      "cell_type": "markdown",
      "metadata": {
        "id": "f480552c"
      },
      "source": [
        "## Step 12: Visualize Model Performance Comparison"
      ]
    },
    {
      "cell_type": "code",
      "metadata": {
        "colab": {
          "base_uri": "https://localhost:8080/",
          "height": 607
        },
        "id": "121a0cc4",
        "outputId": "dd89f443-b4fd-4ed3-f6f1-47ba57a2c456"
      },
      "source": [
        "# The data for grouped bar plot\n",
        "combined_results_melted = combined_results.melt(id_vars='Model', var_name='Metric', value_name='Score')\n",
        "\n",
        "plt.figure(figsize=(12, 6))\n",
        "sns.barplot(x='Model', y='Score', hue='Metric', data=combined_results_melted)\n",
        "plt.title('Model Performance Comparison (R2 Score and RMSE)')\n",
        "plt.xticks(rotation=45, ha='right')\n",
        "plt.ylabel('Score Value')\n",
        "plt.tight_layout()\n",
        "plt.show()"
      ],
      "execution_count": 33,
      "outputs": [
        {
          "output_type": "display_data",
          "data": {
            "text/plain": [
              "<Figure size 1200x600 with 1 Axes>"
            ],
            "image/png": "[encoded data removed]"
          },
          "metadata": {}
        }
      ]
    },
    {
      "cell_type": "markdown",
      "source": [
        "The final results table and the visualization tell a very clear story.\n",
        "\n",
        "####**Analysis:**\n",
        "After adding the three engineered features, the performance of all models improved significantly.\n",
        "\n",
        " The **R² Score** jumped from **~0.57 to ~0.64**. This means your new models explain an additional **7%** of the variance in **house prices**, which is a **substantial improvement**.\n",
        "\n",
        "The **RMSE** dropped from **~0.745 to ~0.687**. This means the average prediction error decreased from about 74,500 dollars to about 68,700 dollars.\n",
        "\n",
        "####**Conclusion:**\n",
        "  This powerfully demonstrates that thoughtful feature engineering is often more effective than just choosing a complex model or extensive hyperparameter tuning. The bar chart makes this conclusion immediately obvious. The \"Engineered\" models are in a different class of performance compared to the originals. The Lasso model with engineered features is your overall best performer."
      ],
      "metadata": {
        "id": "5xWJjG4gHSv3"
      }
    }
  ]
}