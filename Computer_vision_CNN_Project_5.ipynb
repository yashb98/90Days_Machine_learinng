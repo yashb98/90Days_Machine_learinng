{
  "nbformat": 4,
  "nbformat_minor": 0,
  "metadata": {
    "colab": {
      "provenance": [],
      "gpuType": "T4",
      "authorship_tag": "ABX9TyNDIwu3Z7DRajYDCASteHCt",
      "include_colab_link": true
    },
    "kernelspec": {
      "name": "python3",
      "display_name": "Python 3"
    },
    "language_info": {
      "name": "python"
    },
    "accelerator": "GPU"
  },
  "cells": [
    {
      "cell_type": "markdown",
      "metadata": {
        "id": "view-in-github",
        "colab_type": "text"
      },
      "source": [
        "<a href=\"https://colab.research.google.com/github/yashb98/90Days_Machine_learinng/blob/main/Computer_vision_CNN_Project_5.ipynb\" target=\"_parent\"><img src=\"https://colab.research.google.com/assets/colab-badge.svg\" alt=\"Open In Colab\"/></a>"
      ]
    },
    {
      "cell_type": "markdown",
      "source": [
        "## Import Libraries"
      ],
      "metadata": {
        "id": "sMPhHoEzIrBa"
      }
    },
    {
      "cell_type": "code",
      "execution_count": 15,
      "metadata": {
        "id": "Hogp34ly-EE5"
      },
      "outputs": [],
      "source": [
        "import torch\n",
        "import torch.nn as nn\n",
        "import torch.nn.functional as F\n",
        "import torch.optim as optim\n",
        "from torchvision import datasets, transforms\n",
        "from torch.utils.data import DataLoader\n",
        "from torch.optim.lr_scheduler import StepLR\n",
        "from torch.utils.data import Dataset, DataLoader\n",
        "import matplotlib.pyplot as plt\n"
      ]
    },
    {
      "cell_type": "markdown",
      "source": [
        "## Data Loading"
      ],
      "metadata": {
        "id": "AHv-BiaoIqSa"
      }
    },
    {
      "cell_type": "code",
      "source": [
        "import numpy as np\n",
        "import struct\n",
        "\n",
        "def load_images(filename):\n",
        "    with open(filename, 'rb') as f:\n",
        "        magic, num, rows, cols = struct.unpack(\">IIII\", f.read(16))\n",
        "        data = np.frombuffer(f.read(), dtype=np.uint8)\n",
        "        data = data.reshape(num, rows, cols)\n",
        "        return data\n",
        "\n",
        "def load_labels(filename):\n",
        "    with open(filename, 'rb') as f:\n",
        "        magic, num = struct.unpack(\">II\", f.read(8))\n",
        "        labels = np.frombuffer(f.read(), dtype=np.uint8)\n",
        "        return labels"
      ],
      "metadata": {
        "id": "-MmJgFVoAtJD"
      },
      "execution_count": 2,
      "outputs": []
    },
    {
      "cell_type": "markdown",
      "source": [
        "#### This cell defines two helper functions, load_images and load_labels, to manually parse and load the Fashion-MNIST dataset from its raw .ubyte file format.\n",
        "\n",
        "1. **struct.unpack**: This function is used to interpret bytes of data packed in a binary file. The \">IIII\" format string tells it to read four 4-byte unsigned integers in big-endian format. This is necessary to read the metadata (magic number, number of images, rows, and columns) from the IDX file header.\n",
        "\n",
        "2. **np.fromfile:** This NumPy function efficiently reads binary data from a file directly into a NumPy array. We then reshape this array into the correct dimensions (number of images, height, width).\n",
        "\n",
        "These functions are an alternative to using PyTorch's built-in datasets.FashionMNIST and are useful for understanding how the underlying data is structured. After defining the functions and file paths, the cell loads the training and testing images and labels into NumPy arrays. The result is four variables (train_images, train_labels, test_images, test_labels) holding the complete dataset, ready for further processing.\n",
        "\n"
      ],
      "metadata": {
        "id": "mVhWDF8MITkB"
      }
    },
    {
      "cell_type": "code",
      "source": [
        "train_images = load_images('/content/train-images.idx3-ubyte')\n",
        "train_labels = load_labels('/content/train-labels.idx1-ubyte')\n",
        "\n",
        "test_images = load_images('/content/t10k-images.idx3-ubyte')\n",
        "test_labels = load_labels('/content/t10k-labels.idx1-ubyte')\n",
        "\n",
        "print(train_images.shape, train_labels.shape)\n",
        "print(test_images.shape, test_labels.shape)"
      ],
      "metadata": {
        "colab": {
          "base_uri": "https://localhost:8080/",
          "height": 0
        },
        "id": "RlcLa6PQA0LF",
        "outputId": "bca0c828-5474-44cb-bef4-e83ec0b6b9c3"
      },
      "execution_count": 3,
      "outputs": [
        {
          "output_type": "stream",
          "name": "stdout",
          "text": [
            "(60000, 28, 28) (60000,)\n",
            "(10000, 28, 28) (10000,)\n"
          ]
        }
      ]
    },
    {
      "cell_type": "markdown",
      "source": [
        "## Data Transformation and DataLoader Creation"
      ],
      "metadata": {
        "id": "LY5IN5iMI0rB"
      }
    },
    {
      "cell_type": "code",
      "source": [
        "\n",
        "class FashionMNISTDataset(Dataset):\n",
        "    def __init__(self, images, labels, transform=None):\n",
        "        self.images = images\n",
        "        self.labels = labels\n",
        "        self.transform = transform\n",
        "\n",
        "    def __len__(self):\n",
        "        return len(self.images)\n",
        "\n",
        "    def __getitem__(self, idx):\n",
        "        image = self.images[idx]\n",
        "        label = self.labels[idx]\n",
        "\n",
        "        # Convert to PIL or Tensor\n",
        "        if self.transform:\n",
        "            image = self.transform(image)\n",
        "        else:\n",
        "            image = torch.tensor(image, dtype=torch.float32).unsqueeze(0) / 255.0\n",
        "\n",
        "        return image, label"
      ],
      "metadata": {
        "id": "eiUo_5GMA1e_"
      },
      "execution_count": 4,
      "outputs": []
    },
    {
      "cell_type": "markdown",
      "source": [
        "#### This cell defines a custom FashionMNISTDataset class that inherits from PyTorch's Dataset. This is a standard practice for organizing and preparing data for a model.\n",
        "\n",
        "1. __init__: Initializes the dataset by storing the raw image and label arrays. It also accepts an optional transform for applying data augmentation or other preprocessing steps.\n",
        "\n",
        "2. __len__: A required method that returns the total number of images in the dataset.\n",
        "\n",
        "3. __getitem__: This is the core method. It retrieves a single image and label by its index (idx). It then performs crucial preprocessing:\n",
        "\n",
        "4. torch.tensor(...): Converts the image from a NumPy array to a PyTorch tensor.\n",
        "\n",
        "5. .unsqueeze(0): Adds a channel dimension, changing the image shape from [28, 28] to [1, 28, 28]. This is necessary because CNNs expect a channel dimension.\n",
        "\n",
        "6. / 255.0: Normalizes the pixel values from the 0-255 range to a 0.0-1.0 float range, which helps the model train more effectively.\n",
        "\n",
        "By wrapping our data in this class, we make it compatible with PyTorch's DataLoader, which will handle batching and shuffling for us during training."
      ],
      "metadata": {
        "id": "ecyOtgJwLAJl"
      }
    },
    {
      "cell_type": "code",
      "source": [
        "transform = transforms.Compose([\n",
        "    transforms.ToTensor(),\n",
        "    transforms.Normalize((0.5,), (0.5,))\n",
        "])\n",
        "\n",
        "train_dataset = FashionMNISTDataset(train_images, train_labels, transform=transform)\n",
        "test_dataset = FashionMNISTDataset(test_images, test_labels, transform=transform)\n",
        "\n",
        "train_loader = DataLoader(train_dataset, batch_size=64, shuffle=True)\n",
        "test_loader = DataLoader(test_dataset, batch_size=64, shuffle=False)"
      ],
      "metadata": {
        "id": "C702nAqHBBC6"
      },
      "execution_count": 5,
      "outputs": []
    },
    {
      "cell_type": "markdown",
      "source": [
        "1. transforms.Compose: A pipeline is created to process the images.\n",
        "\n",
        "2. transforms.ToTensor(): This converts the image data into PyTorch tensors and scales the pixel values from a 0-255 range to a 0.0-1.0 range.\n",
        "\n",
        "3. transforms.Normalize((0.5,), (0.5,)): This standardizes the pixel values to a range of -1.0 to 1.0 by subtracting the mean and dividing by the standard deviation. This helps the model train more effectively.\n",
        "\n",
        "4. FashionMNISTDataset(...): Instances of our custom dataset are created for both training and testing sets. The transform pipeline is passed to them, so every image will be automatically preprocessed when loaded.\n",
        "\n",
        "5. DataLoader(...): This wraps our datasets into iterators that provide data in mini-batches of 64. The training loader (train_loader) will also shuffle the data before each epoch to improve model generalization."
      ],
      "metadata": {
        "id": "6JkFLOPVJP2L"
      }
    },
    {
      "cell_type": "code",
      "source": [
        "import matplotlib.pyplot as plt\n",
        "\n",
        "images, labels = next(iter(train_loader))\n",
        "plt.imshow(images[0].squeeze(), cmap='gray')\n",
        "plt.title(f\"Label: {labels[0].item()}\")\n",
        "plt.show()"
      ],
      "metadata": {
        "colab": {
          "base_uri": "https://localhost:8080/",
          "height": 507
        },
        "id": "a5MEVBAZBDxV",
        "outputId": "5cddabcb-9eef-4efb-b489-899cf85767d6"
      },
      "execution_count": 6,
      "outputs": [
        {
          "output_type": "stream",
          "name": "stderr",
          "text": [
            "/usr/local/lib/python3.12/dist-packages/torchvision/transforms/functional.py:154: UserWarning: The given NumPy array is not writable, and PyTorch does not support non-writable tensors. This means writing to this tensor will result in undefined behavior. You may want to copy the array to protect its data or make it writable before converting it to a tensor. This type of warning will be suppressed for the rest of this program. (Triggered internally at /pytorch/torch/csrc/utils/tensor_numpy.cpp:203.)\n",
            "  img = torch.from_numpy(pic.transpose((2, 0, 1))).contiguous()\n"
          ]
        },
        {
          "output_type": "display_data",
          "data": {
            "text/plain": [
              "<Figure size 640x480 with 1 Axes>"
            ],
            "image/png": "[encoded data removed]"
          },
          "metadata": {}
        }
      ]
    },
    {
      "cell_type": "markdown",
      "source": [
        "The result is a visual confirmation of our data pipeline, showing one of the fashion items from the dataset with its correct label displayed as the title. This helps verify that our transformations and data loading are working as expected before we proceed to training."
      ],
      "metadata": {
        "id": "kJAxNKmSL02X"
      }
    },
    {
      "cell_type": "markdown",
      "source": [
        "## Define a Deeper CNN ( Architecture)\n",
        "\n",
        "Include BatchNorm, Dropout, and more convolutional depth."
      ],
      "metadata": {
        "id": "57FXutWzMFpB"
      }
    },
    {
      "cell_type": "code",
      "source": [
        "class DeepFashionCNN(nn.Module):\n",
        "    def __init__(self):\n",
        "        super(DeepFashionCNN, self).__init__()\n",
        "        self.layer1 = nn.Sequential(\n",
        "            nn.Conv2d(1, 32, 3, padding=1),\n",
        "            nn.BatchNorm2d(32),\n",
        "            nn.ReLU(),\n",
        "            nn.Conv2d(32, 32, 3, padding=1),\n",
        "            nn.BatchNorm2d(32),\n",
        "            nn.ReLU(),\n",
        "            nn.MaxPool2d(2, 2),\n",
        "            nn.Dropout(0.25)\n",
        "        )\n",
        "        self.layer2 = nn.Sequential(\n",
        "            nn.Conv2d(32, 64, 3, padding=1),\n",
        "            nn.BatchNorm2d(64),\n",
        "            nn.ReLU(),\n",
        "            nn.Conv2d(64, 64, 3, padding=1),\n",
        "            nn.BatchNorm2d(64),\n",
        "            nn.ReLU(),\n",
        "            nn.MaxPool2d(2, 2),\n",
        "            nn.Dropout(0.25)\n",
        "        )\n",
        "        self.fc1 = nn.Linear(64 * 7 * 7, 256)\n",
        "        self.bn1 = nn.BatchNorm1d(256)\n",
        "        self.dropout_fc = nn.Dropout(0.5)\n",
        "        self.fc2 = nn.Linear(256, 10)\n",
        "\n",
        "    def forward(self, x):\n",
        "        x = self.layer1(x)\n",
        "        x = self.layer2(x)\n",
        "        x = x.view(-1, 64 * 7 * 7)\n",
        "        x = F.relu(self.bn1(self.fc1(x)))\n",
        "        x = self.dropout_fc(x)\n",
        "        x = self.fc2(x)\n",
        "        return x"
      ],
      "metadata": {
        "id": "_haJWqBUBQoj"
      },
      "execution_count": 7,
      "outputs": []
    },
    {
      "cell_type": "markdown",
      "source": [
        "#### This cell defines a more complex DeepFashionCNN model with several key improvements for better performance and more stable training.\n",
        "\n",
        "1. Deeper Architecture: The network is organized into two nn.Sequential blocks, each containing two convolutional layers. This allows the model to learn more hierarchical and intricate features from the images.\n",
        "\n",
        "2. Batch Normalization (nn.BatchNorm2d/1d): After each convolutional and fully connected layer, Batch Normalization is applied. This technique normalizes the output of the previous layer, which helps to accelerate training, improve stability, and act as a form of regularization.\n",
        "\n",
        "3. Max Pooling (nn.MaxPool2d): Each block ends with a max pooling layer that downsamples the feature map, reducing its spatial dimensions. This makes the model more robust to variations in the position of features.\n",
        "\n",
        "4. Dropout (nn.Dropout): Dropout layers are included after both convolutional blocks and the fully connected layer. This regularization method helps prevent overfitting by randomly setting a fraction of neurons to zero during training.\n",
        "\n",
        "5. Fully Connected Layers: After the convolutional blocks, the feature map is flattened and passed through two fully connected layers to perform the final classification into 10 classes.\n"
      ],
      "metadata": {
        "id": "r0ZhfCkKNpza"
      }
    },
    {
      "cell_type": "markdown",
      "source": [
        "## Training Setup: Optimizer and Learning Rate Scheduler"
      ],
      "metadata": {
        "id": "9QsVhY7pM2Rx"
      }
    },
    {
      "cell_type": "code",
      "source": [
        "device = torch.device(\"cuda\" if torch.cuda.is_available() else \"cpu\")\n",
        "model = DeepFashionCNN().to(device)\n",
        "\n",
        "criterion = nn.CrossEntropyLoss()\n",
        "optimizer = optim.Adam(model.parameters(), lr=0.001)\n",
        "scheduler = StepLR(optimizer, step_size=5, gamma=0.5)  # Reduce LR every 5 epochs"
      ],
      "metadata": {
        "id": "3jNa27v3BIWR"
      },
      "execution_count": 8,
      "outputs": []
    },
    {
      "cell_type": "markdown",
      "source": [
        "####This cell initializes the core components needed for the training process.\n",
        "\n",
        "1. Device Setup: It checks for a CUDA-enabled GPU and sets it as the device; otherwise, it defaults to the CPU. This ensures the model runs on the fastest available hardware.\n",
        "\n",
        "2. Model Initialization: An instance of the DeepFashionCNN is created and moved to the selected device.\n",
        "\n",
        "3. Loss Function: nn.CrossEntropyLoss is chosen as the loss function. This is standard for multi-class classification as it combines LogSoftmax and NLLLoss, making it efficient and numerically stable.\n",
        "\n",
        "4. Optimizer: The Adam optimizer is selected with a learning rate (lr) of 0.001 to update the model's weights based on the calculated loss.\n",
        "\n",
        "5. Learning Rate Scheduler: StepLR is configured to automatically reduce the learning rate by half (gamma=0.5) every 5 epochs. This helps the model fine-tune its weights more effectively as training progresses."
      ],
      "metadata": {
        "id": "0XIxdzDGOAkh"
      }
    },
    {
      "cell_type": "markdown",
      "source": [
        "## Training Loop (with Validation Accuracy)"
      ],
      "metadata": {
        "id": "LPCW8B_PM5ed"
      }
    },
    {
      "cell_type": "code",
      "source": [
        "def train(model, device, train_loader, optimizer, criterion, epoch):\n",
        "    model.train()\n",
        "    total_loss = 0\n",
        "    for images, labels in train_loader:\n",
        "        images, labels = images.to(device), labels.to(device)\n",
        "        optimizer.zero_grad()\n",
        "        output = model(images)\n",
        "        loss = criterion(output, labels)\n",
        "        loss.backward()\n",
        "        optimizer.step()\n",
        "        total_loss += loss.item()\n",
        "    print(f\"Epoch {epoch}: Training Loss: {total_loss/len(train_loader):.4f}\")\n",
        "\n",
        "def test(model, device, test_loader):\n",
        "    model.eval()\n",
        "    correct = 0\n",
        "    total = 0\n",
        "    with torch.no_grad():\n",
        "        for images, labels in test_loader:\n",
        "            images, labels = images.to(device), labels.to(device)\n",
        "            output = model(images)\n",
        "            _, preds = torch.max(output, 1)\n",
        "            total += labels.size(0)\n",
        "            correct += (preds == labels).sum().item()\n",
        "    acc = 100 * correct / total\n",
        "    print(f\"Test Accuracy: {acc:.2f}%\")\n",
        "    return acc\n",
        "\n",
        "num_epochs = 20\n",
        "best_acc = 0\n",
        "\n",
        "for epoch in range(1, num_epochs+1):\n",
        "    train(model, device, train_loader, optimizer, criterion, epoch)\n",
        "    acc = test(model, device, test_loader)\n",
        "    scheduler.step()\n",
        "    if acc > best_acc:\n",
        "        best_acc = acc\n",
        "        torch.save(model.state_dict(), \"best_fashion_cnn.pth\")\n",
        ""
      ],
      "metadata": {
        "colab": {
          "base_uri": "https://localhost:8080/",
          "height": 0
        },
        "id": "ea-04-n5Bgl_",
        "outputId": "13833153-dc18-45b5-fdf9-4744c160433f"
      },
      "execution_count": 9,
      "outputs": [
        {
          "output_type": "stream",
          "name": "stdout",
          "text": [
            "Epoch 1: Training Loss: 0.1296\n",
            "Test Accuracy: 98.99%\n",
            "✅ Model Saved\n",
            "Epoch 2: Training Loss: 0.0552\n",
            "Test Accuracy: 99.25%\n",
            "✅ Model Saved\n",
            "Epoch 3: Training Loss: 0.0428\n",
            "Test Accuracy: 99.30%\n",
            "✅ Model Saved\n",
            "Epoch 4: Training Loss: 0.0387\n",
            "Test Accuracy: 99.43%\n",
            "✅ Model Saved\n",
            "Epoch 5: Training Loss: 0.0322\n",
            "Test Accuracy: 99.41%\n",
            "Epoch 6: Training Loss: 0.0227\n",
            "Test Accuracy: 99.58%\n",
            "✅ Model Saved\n",
            "Epoch 7: Training Loss: 0.0212\n",
            "Test Accuracy: 99.61%\n",
            "✅ Model Saved\n",
            "Epoch 8: Training Loss: 0.0197\n",
            "Test Accuracy: 99.53%\n",
            "Epoch 9: Training Loss: 0.0186\n",
            "Test Accuracy: 99.67%\n",
            "✅ Model Saved\n",
            "Epoch 10: Training Loss: 0.0184\n",
            "Test Accuracy: 99.58%\n",
            "Epoch 11: Training Loss: 0.0121\n",
            "Test Accuracy: 99.62%\n",
            "Epoch 12: Training Loss: 0.0122\n",
            "Test Accuracy: 99.67%\n",
            "Epoch 13: Training Loss: 0.0107\n",
            "Test Accuracy: 99.66%\n",
            "Epoch 14: Training Loss: 0.0104\n",
            "Test Accuracy: 99.61%\n",
            "Epoch 15: Training Loss: 0.0098\n",
            "Test Accuracy: 99.56%\n",
            "Epoch 16: Training Loss: 0.0084\n",
            "Test Accuracy: 99.63%\n",
            "Epoch 17: Training Loss: 0.0075\n",
            "Test Accuracy: 99.66%\n",
            "Epoch 18: Training Loss: 0.0077\n",
            "Test Accuracy: 99.65%\n",
            "Epoch 19: Training Loss: 0.0074\n",
            "Test Accuracy: 99.65%\n",
            "Epoch 20: Training Loss: 0.0073\n",
            "Test Accuracy: 99.65%\n"
          ]
        }
      ]
    },
    {
      "cell_type": "markdown",
      "source": [
        "#### This cell orchestrates the entire model training and evaluation process. It defines two helper functions (train and test) and a main loop that calls them.\n",
        "\n",
        "1. train(...) Function\n",
        "      * This function handles the training logic for a single epoch.\n",
        "\n",
        "      * It sets the model to train() mode, enabling features like Dropout.\n",
        "\n",
        "      * It iterates through the train_loader, processing one mini-batch at a time, and performs the standard training steps: zeroing gradients, making predictions, calculating loss, backpropagation (loss.backward()), and updating the model weights (optimizer.step()).\n",
        "\n",
        "      * It prints the average training loss for the epoch.\n",
        "\n",
        "2. test(...) Function\n",
        "      * This function evaluates the model's performance on the test set.\n",
        "\n",
        "      * It sets the model to eval() mode to ensure consistent predictions.\n",
        "\n",
        "      * Using torch.no_grad(), it disables gradient calculation to speed up inference.\n",
        "\n",
        "      * It makes predictions for each batch and calculates the final test accuracy by comparing the predicted labels (torch.max) with the true labels.\n",
        "\n",
        "3. Main Training Loop\n",
        "      * This is the driver of the process, looping for 20 epochs.\n",
        "\n",
        "      * In each epoch, it calls the train and test functions.\n",
        "\n",
        "      * scheduler.step(): It updates the learning rate according to the schedule (halving it every 5 epochs).\n",
        "\n",
        "4. Saving the Best Model: It keeps track of the best accuracy achieved so far. If the model's performance improves in the current epoch, it saves the model's parameters (state_dict) to a file named \"best_fashion_cnn.pth\". This ensures that you always have a copy of the best-performing model at the end of the training process."
      ],
      "metadata": {
        "id": "wWKkHBrCOK4F"
      }
    },
    {
      "cell_type": "markdown",
      "source": [
        "## Visualize Model Insights (Analysis)\n",
        "\n",
        "### (a) Show Misclassified Images\n",
        "\n",
        "Identify where your CNN fails:"
      ],
      "metadata": {
        "id": "t42xx7HCNBhA"
      }
    },
    {
      "cell_type": "code",
      "source": [
        "\n",
        "model.eval()\n",
        "misclassified = []\n",
        "\n",
        "with torch.no_grad():\n",
        "    for images, labels in test_loader:\n",
        "        images, labels = images.to(device), labels.to(device)\n",
        "        outputs = model(images)\n",
        "        _, preds = torch.max(outputs, 1)\n",
        "        for i in range(len(preds)):\n",
        "            if preds[i] != labels[i]:\n",
        "                misclassified.append((images[i].cpu(), preds[i].cpu(), labels[i].cpu()))\n",
        "            if len(misclassified) > 16:\n",
        "                break\n",
        "        if len(misclassified) > 16:\n",
        "            break\n",
        "\n",
        "fig, axes = plt.subplots(4, 4, figsize=(8,8))\n",
        "for i, (img, pred, label) in enumerate(misclassified[:16]):\n",
        "    axes[i//4, i%4].imshow(img.squeeze(), cmap='gray')\n",
        "    axes[i//4, i%4].set_title(f\"P:{pred.item()} / T:{label.item()}\")\n",
        "    axes[i//4, i%4].axis('off')\n",
        "plt.show()"
      ],
      "metadata": {
        "colab": {
          "base_uri": "https://localhost:8080/",
          "height": 675
        },
        "id": "bUDNTi57Bner",
        "outputId": "5a2bcc54-8659-452f-dddb-273a160beeb5"
      },
      "execution_count": 10,
      "outputs": [
        {
          "output_type": "display_data",
          "data": {
            "text/plain": [
              "<Figure size 800x800 with 16 Axes>"
            ],
            "image/png": "[encoded data removed]"
          },
          "metadata": {}
        }
      ]
    },
    {
      "cell_type": "markdown",
      "source": [
        "This cell provides a qualitative analysis of the model's performance by visualizing the images it incorrectly classified.\n",
        "\n",
        "Collect Misclassified Samples: The code iterates through the test_loader and compares the model's predictions (preds) with the true labels. When a mismatch is found, it stores the image, the predicted label, and the true label in a misclassified list. This process stops after finding 16 incorrect examples.\n",
        "\n",
        "Display the Images: It then uses matplotlib to create a 4x4 grid of these misclassified images. Each image is titled with its Predicted (P:) label and its True (T:) label, making it easy to see where the model made errors.\n",
        "\n",
        "This visualization is a crucial step for understanding the model's weaknesses and identifying patterns in its mistakes (e.g., confusing \"Pullover\" with \"Coat\").\n"
      ],
      "metadata": {
        "id": "zZUP1r9FPe3I"
      }
    },
    {
      "cell_type": "markdown",
      "source": [
        "### (b)  Visualize Feature Maps\n",
        "\n",
        "To see what the CNN “sees”:"
      ],
      "metadata": {
        "id": "u40h6NJlNHqg"
      }
    },
    {
      "cell_type": "code",
      "source": [
        "def visualize_feature_maps(model, image):\n",
        "    model.eval()\n",
        "    with torch.no_grad():\n",
        "        x = image.unsqueeze(0).to(device)\n",
        "        for i, layer in enumerate([model.layer1, model.layer2]):\n",
        "            x = layer(x)\n",
        "            fig, axes = plt.subplots(4, 8, figsize=(12,6))\n",
        "            for j, ax in enumerate(axes.flat):\n",
        "                if j < x.shape[1]:\n",
        "                    ax.imshow(x[0, j].cpu(), cmap='viridis')\n",
        "                    ax.axis('off')\n",
        "            plt.suptitle(f\"Feature Maps after Layer {i+1}\")\n",
        "            plt.show()\n",
        "\n",
        "sample_img, _ = next(iter(test_loader))\n",
        "visualize_feature_maps(model, sample_img[0])"
      ],
      "metadata": {
        "colab": {
          "base_uri": "https://localhost:8080/",
          "height": 1099
        },
        "id": "UkPaHsPDBxAK",
        "outputId": "2ff861a6-8a61-4a4e-9663-e6c2ead522d9"
      },
      "execution_count": 11,
      "outputs": [
        {
          "output_type": "display_data",
          "data": {
            "text/plain": [
              "<Figure size 1200x600 with 32 Axes>"
            ],
            "image/png": "[encoded data removed]"
          },
          "metadata": {}
        },
        {
          "output_type": "display_data",
          "data": {
            "text/plain": [
              "<Figure size 1200x600 with 32 Axes>"
            ],
            "image/png": "[encoded data removed]"
          },
          "metadata": {}
        }
      ]
    },
    {
      "cell_type": "markdown",
      "source": [
        "This code defines and calls a function visualize_feature_maps to \"peek inside\" the trained CNN. It takes a sample image, passes it through the first and second convolutional blocks (layer1 and layer2), and then uses matplotlib to plot the resulting feature maps. These visualizations show the specific patterns—such as edges, textures, or shapes—that each layer has learned to detect, providing insight into how the network is interpreting the images."
      ],
      "metadata": {
        "id": "sSsmMNNcP5IY"
      }
    },
    {
      "cell_type": "code",
      "source": [],
      "metadata": {
        "id": "O-Mgl6EvBzht"
      },
      "execution_count": 11,
      "outputs": []
    },
    {
      "cell_type": "markdown",
      "metadata": {
        "id": "8943500c"
      },
      "source": [
        "## Analysis of Visualizations, Results\n",
        "\n",
        "### Visualizations Analysis\n",
        "\n",
        "**Misclassified Images:** The visualization of misclassified images provides valuable insight into the types of errors the model makes. By examining these images, we can observe patterns in the model's confusions. For example, the model might consistently misclassify similar items like different types of shirts or coats. This suggests that the model might be struggling to capture subtle visual differences between certain classes. It also highlights the importance of having diverse and well-labeled training data that clearly distinguishes between similar categories. Further analysis could involve grouping misclassified images by their true and predicted labels to quantify these confusions (e.g., using a confusion matrix).\n",
        "\n",
        "**Feature Maps:** The visualization of feature maps allows us to see what features the convolutional layers are learning at different stages of the network.\n",
        "\n",
        "*   **Layer 1 Feature Maps:** The feature maps after the first convolutional layer often show basic features like edges, corners, and simple textures. This indicates that the initial layers are acting as edge detectors and capturing fundamental visual elements in the images.\n",
        "*   **Layer 2 Feature Maps:** The feature maps after the second convolutional layer typically show more complex patterns and combinations of the basic features learned in the first layer. These might represent parts of objects or more abstract textures. The reduction in spatial dimensions due to pooling also becomes evident in these later feature maps.\n",
        "\n",
        "Visualizing feature maps helps confirm that the CNN is learning hierarchical representations of the input images, starting from simple features and building up to more complex ones. This is a key characteristic of effective convolutional neural networks.\n",
        "\n",
        "### Results Analysis\n",
        "\n",
        "The training results show that the model achieved a very high accuracy on the test set, reaching a peak of **99.67%**. The training loss consistently decreased over the epochs, indicating that the model was effectively learning from the training data. The test accuracy also generally increased, although there were some minor fluctuations, which is normal during training. The use of techniques like Batch Normalization, Dropout, and a learning rate scheduler likely contributed to this strong performance and helped prevent overfitting. The saving of the best model based on test accuracy is a good practice to ensure the final deployed model is the one with the highest performance on unseen data.\n",
        "\n"
      ]
    },
    {
      "cell_type": "markdown",
      "source": [
        "## Conclusion and Summary\n",
        "\n",
        "This notebook successfully demonstrates the process of building, training, and evaluating a deep convolutional neural network for image classification on the Fashion-MNIST dataset.\n",
        "\n",
        "**Summary of the process:**\n",
        "\n",
        "1.  **Data Loading and Preparation:** The notebook starts by manually loading and parsing the Fashion-MNIST dataset using helper functions.\n",
        "2.  **Custom Dataset and DataLoader:** A custom PyTorch `Dataset` and `DataLoader` are created to efficiently handle the data in mini-batches, including transformations for preprocessing and normalization.\n",
        "3.  **Model Definition:** A deeper CNN architecture (`DeepFashionCNN`) is defined, incorporating best practices like multiple convolutional layers, Batch Normalization, ReLU activations, Max Pooling, and Dropout for improved performance and regularization.\n",
        "4.  **Training Setup:** The necessary components for training are initialized, including setting the device (GPU or CPU), defining the loss function (`CrossEntropyLoss`), selecting an optimizer (`Adam`), and configuring a learning rate scheduler (`StepLR`).\n",
        "5.  **Training and Evaluation Loop:** The model is trained over multiple epochs using the defined training and testing functions. The test accuracy is monitored, and the best-performing model is saved.\n",
        "6.  **Model Analysis:** Visualizations of misclassified images and feature maps are generated to gain insights into the model's performance and the features it has learned.\n",
        "\n",
        "**Conclusion:**\n",
        "\n",
        "The DeepFashionCNN model trained in this notebook achieved excellent performance on the Fashion-MNIST dataset, as evidenced by the high test accuracy. The visualizations provided valuable insights into the model's strengths and weaknesses. Examining misclassified images helps identify potential areas for improvement, such as focusing on data augmentation for confusing classes or exploring more robust model architectures. Visualizing feature maps confirms that the CNN is effectively learning hierarchical visual representations, which is fundamental to its success in image classification tasks. This notebook serves as a comprehensive example of applying deep learning techniques to an image classification problem using PyTorch."
      ],
      "metadata": {
        "id": "fGF2WOLQRAkA"
      }
    },
    {
      "cell_type": "code",
      "source": [],
      "metadata": {
        "id": "XofnJKxqQ_6H"
      },
      "execution_count": null,
      "outputs": []
    }
  ]
}